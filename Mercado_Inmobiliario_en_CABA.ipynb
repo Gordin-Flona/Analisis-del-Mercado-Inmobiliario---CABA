{
  "nbformat": 4,
  "nbformat_minor": 0,
  "metadata": {
    "colab": {
      "name": "Mercado Inmobiliario en CABA.ipynb",
      "provenance": [],
      "collapsed_sections": []
    },
    "kernelspec": {
      "name": "python3",
      "display_name": "Python 3"
    },
    "language_info": {
      "name": "python"
    }
  },
  "cells": [
    {
      "cell_type": "markdown",
      "metadata": {
        "id": "bxxrhH3qz97N"
      },
      "source": [
        "# **ENCABEZADO**"
      ]
    },
    {
      "cell_type": "markdown",
      "metadata": {
        "id": "7fCRF8CVzwi9"
      },
      "source": [
        "\n",
        "**Analisis del Mercado Inmobiliario en CABA**\n",
        "![descarga.jfif](data:image/jpeg;base64,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)\n",
        "\n",
        "\n",
        "\n",
        "Se pretendió realizar un EDA del Mercado Inmobiliario de CABA a partir de los datos públicos generados, guardados y publicados por el Gobierno de la Ciudad de Buenos Aires. \n",
        "\n",
        "Se procedió a trabajar con los DataSets \"Precio promedio Alquiler\" y \"Precio de Venta de Departamentos\" elaborados por la Dirección General Calidad Institucional y Gobierno Abierto. \n",
        "\n",
        "Se realizó en primera instancia un análisis exploratorio para tener una mayor comprensión de los datos: identificación de tipos de datos, valores nulos y outliers, etc. \n",
        "Se avanzó también con la identificación de los valores nulos y de decidió eliminarlos. Esto produjo una reducción significativa de la base de datos.\n",
        "\n",
        "Aclaraciones respecto de los datos sobre los que se trabajó:\n",
        "\n",
        "**Precio promedio alquiler**\n",
        "- Precio promedio mensual (**expresado en pesos**) de departamentos en alquiler de 2 y 3 ambientes usados y a estrenar en la Ciudad.\n",
        "- Años abarcados : 2013 a 2019.\n",
        "- Fuente DGEyC-GCBA en base sobre la base de datos de Argenprop.\n",
        "\n",
        "\n",
        "**Precio de venta de departamentos**\n",
        "- Precio promedio del m2 (**expresado en dólares**) de departamentos en venta de 2 y 3 ambientes usados y a estrenar.\n",
        "- Años abarcados : 2010 a 2019. \n",
        "- Fuente DGEyC-GCBA en base sobre la base de datos de Argenprop."
      ]
    },
    {
      "cell_type": "markdown",
      "metadata": {
        "id": "Rrn-zxxe0LPF"
      },
      "source": [
        "# **Paquetes Instalados**"
      ]
    },
    {
      "cell_type": "code",
      "metadata": {
        "id": "zEmX6XL7Hngq"
      },
      "source": [
        "# Instalación\n",
        "!pip install jupyter-dash\n",
        "!pip install dash\n",
        "!pip install dash_core_components\n",
        "!pip install dash_html_components\n",
        "!pip install dash_table\n",
        "!pip install dash_bootstrap_components"
      ],
      "execution_count": null,
      "outputs": []
    },
    {
      "cell_type": "code",
      "metadata": {
        "id": "-kKN8IlGO67x"
      },
      "source": [
        "pip install --upgrade plotly"
      ],
      "execution_count": null,
      "outputs": []
    },
    {
      "cell_type": "code",
      "metadata": {
        "id": "Mxkpq0p-KZ4l"
      },
      "source": [
        "#Instalación EDA\n",
        "import numpy as np\n",
        "import pandas as pd\n",
        "import matplotlib.pyplot as plt\n",
        "import plotly.graph_objects as go\n",
        "import seaborn as sns\n",
        "\n",
        "# Instalación DASH\n",
        "from jupyter_dash import JupyterDash\n",
        "import dash_core_components as dcc\n",
        "import dash_html_components as html\n",
        "from dash.dependencies import Input,Output,State\n",
        "import dash_table\n",
        "import dash_bootstrap_components as dbc\n",
        "import plotly.express as px"
      ],
      "execution_count": 3,
      "outputs": []
    },
    {
      "cell_type": "code",
      "metadata": {
        "id": "PIkjKstToZ33"
      },
      "source": [
        "pip freeze > requirements.txt"
      ],
      "execution_count": null,
      "outputs": []
    },
    {
      "cell_type": "code",
      "metadata": {
        "id": "_mpbR8IIeoga",
        "colab": {
          "base_uri": "https://localhost:8080/"
        },
        "outputId": "24fad9af-df80-40a8-b4b1-99721ee2c3b0"
      },
      "source": [
        "import types\n",
        "def imports():\n",
        "\tfor name, val in globals().items():\n",
        "\t\tif isinstance(val, types.ModuleType):\n",
        "\t\t\tif val.__name__ !='builtins':\n",
        "\t\t\t\tif val.__name__!='types':\n",
        "\t\t\t\t\tyield val.__name__\n",
        "list(imports())"
      ],
      "execution_count": null,
      "outputs": [
        {
          "output_type": "execute_result",
          "data": {
            "text/plain": [
              "['IPython.core.shadowns',\n",
              " 'numpy',\n",
              " 'pandas',\n",
              " 'matplotlib.pyplot',\n",
              " 'plotly.graph_objects',\n",
              " 'seaborn',\n",
              " 'dash_core_components',\n",
              " 'dash_html_components',\n",
              " 'dash_table',\n",
              " 'dash_bootstrap_components',\n",
              " 'plotly.express']"
            ]
          },
          "metadata": {
            "tags": []
          },
          "execution_count": 5
        }
      ]
    },
    {
      "cell_type": "markdown",
      "metadata": {
        "id": "cKYAgajYwozr"
      },
      "source": [
        "# ALQUILERES EN **CABA**"
      ]
    },
    {
      "cell_type": "code",
      "metadata": {
        "id": "jS-J6_SwOsbQ"
      },
      "source": [
        "precio_alq = pd.read_csv('/content/drive/MyDrive/DATOS/GCBA/Vivienda/precio-alquiler-deptos.csv')\n",
        "precio_vta = pd.read_csv('/content/drive/MyDrive/DATOS/GCBA/Vivienda/precio-venta-deptos.csv')"
      ],
      "execution_count": 4,
      "outputs": []
    },
    {
      "cell_type": "code",
      "metadata": {
        "id": "8vux88h0PAlu",
        "colab": {
          "base_uri": "https://localhost:8080/",
          "height": 107
        },
        "outputId": "6bb55a98-bf54-498a-beca-03c994b06f8a"
      },
      "source": [
        "precio_alq.head(2)"
      ],
      "execution_count": null,
      "outputs": [
        {
          "output_type": "execute_result",
          "data": {
            "text/html": [
              "<div>\n",
              "<style scoped>\n",
              "    .dataframe tbody tr th:only-of-type {\n",
              "        vertical-align: middle;\n",
              "    }\n",
              "\n",
              "    .dataframe tbody tr th {\n",
              "        vertical-align: top;\n",
              "    }\n",
              "\n",
              "    .dataframe thead th {\n",
              "        text-align: right;\n",
              "    }\n",
              "</style>\n",
              "<table border=\"1\" class=\"dataframe\">\n",
              "  <thead>\n",
              "    <tr style=\"text-align: right;\">\n",
              "      <th></th>\n",
              "      <th>barrio</th>\n",
              "      <th>anio</th>\n",
              "      <th>mes</th>\n",
              "      <th>precio_prom</th>\n",
              "      <th>ambientes</th>\n",
              "      <th>comuna</th>\n",
              "    </tr>\n",
              "  </thead>\n",
              "  <tbody>\n",
              "    <tr>\n",
              "      <th>0</th>\n",
              "      <td>AGRONOMIA</td>\n",
              "      <td>2013</td>\n",
              "      <td>Jul</td>\n",
              "      <td>NaN</td>\n",
              "      <td>3 ambientes</td>\n",
              "      <td>15</td>\n",
              "    </tr>\n",
              "    <tr>\n",
              "      <th>1</th>\n",
              "      <td>AGRONOMIA</td>\n",
              "      <td>2013</td>\n",
              "      <td>Ago</td>\n",
              "      <td>NaN</td>\n",
              "      <td>3 ambientes</td>\n",
              "      <td>15</td>\n",
              "    </tr>\n",
              "  </tbody>\n",
              "</table>\n",
              "</div>"
            ],
            "text/plain": [
              "      barrio  anio  mes  precio_prom    ambientes  comuna\n",
              "0  AGRONOMIA  2013  Jul          NaN  3 ambientes      15\n",
              "1  AGRONOMIA  2013  Ago          NaN  3 ambientes      15"
            ]
          },
          "metadata": {
            "tags": []
          },
          "execution_count": 7
        }
      ]
    },
    {
      "cell_type": "code",
      "metadata": {
        "id": "qAfrdgBb9aRX"
      },
      "source": [
        "precio_alq.info()"
      ],
      "execution_count": null,
      "outputs": []
    },
    {
      "cell_type": "code",
      "metadata": {
        "id": "-NFfiX5TPDkh",
        "colab": {
          "base_uri": "https://localhost:8080/",
          "height": 107
        },
        "outputId": "0951c984-3cfd-4795-d80b-811941505962"
      },
      "source": [
        "precio_vta.head(2)"
      ],
      "execution_count": null,
      "outputs": [
        {
          "output_type": "execute_result",
          "data": {
            "text/html": [
              "<div>\n",
              "<style scoped>\n",
              "    .dataframe tbody tr th:only-of-type {\n",
              "        vertical-align: middle;\n",
              "    }\n",
              "\n",
              "    .dataframe tbody tr th {\n",
              "        vertical-align: top;\n",
              "    }\n",
              "\n",
              "    .dataframe thead th {\n",
              "        text-align: right;\n",
              "    }\n",
              "</style>\n",
              "<table border=\"1\" class=\"dataframe\">\n",
              "  <thead>\n",
              "    <tr style=\"text-align: right;\">\n",
              "      <th></th>\n",
              "      <th>barrio</th>\n",
              "      <th>año</th>\n",
              "      <th>trimestre</th>\n",
              "      <th>precio_prom</th>\n",
              "      <th>ambientes</th>\n",
              "      <th>estado</th>\n",
              "      <th>comuna</th>\n",
              "    </tr>\n",
              "  </thead>\n",
              "  <tbody>\n",
              "    <tr>\n",
              "      <th>0</th>\n",
              "      <td>AGRONOMIA</td>\n",
              "      <td>2010</td>\n",
              "      <td>1</td>\n",
              "      <td>NaN</td>\n",
              "      <td>2 ambientes</td>\n",
              "      <td>Usado</td>\n",
              "      <td>15</td>\n",
              "    </tr>\n",
              "    <tr>\n",
              "      <th>1</th>\n",
              "      <td>AGRONOMIA</td>\n",
              "      <td>2010</td>\n",
              "      <td>2</td>\n",
              "      <td>NaN</td>\n",
              "      <td>2 ambientes</td>\n",
              "      <td>Usado</td>\n",
              "      <td>15</td>\n",
              "    </tr>\n",
              "  </tbody>\n",
              "</table>\n",
              "</div>"
            ],
            "text/plain": [
              "      barrio   año  trimestre  precio_prom    ambientes estado  comuna\n",
              "0  AGRONOMIA  2010          1          NaN  2 ambientes  Usado      15\n",
              "1  AGRONOMIA  2010          2          NaN  2 ambientes  Usado      15"
            ]
          },
          "metadata": {
            "tags": []
          },
          "execution_count": 9
        }
      ]
    },
    {
      "cell_type": "code",
      "metadata": {
        "id": "R80Q-8yFmd6m"
      },
      "source": [
        "precio_alq.barrio.unique()"
      ],
      "execution_count": null,
      "outputs": []
    },
    {
      "cell_type": "code",
      "metadata": {
        "id": "1tTxdF5wP99y",
        "colab": {
          "base_uri": "https://localhost:8080/"
        },
        "outputId": "892bb997-c531-4211-8331-4b345c56c479"
      },
      "source": [
        " len(precio_alq.barrio.unique()) #== len(precio_vta.barrio.unique())  TENGO LA MISMA CANTIDAD DE BARRIOS "
      ],
      "execution_count": null,
      "outputs": [
        {
          "output_type": "execute_result",
          "data": {
            "text/plain": [
              "48"
            ]
          },
          "metadata": {
            "tags": []
          },
          "execution_count": 11
        }
      ]
    },
    {
      "cell_type": "code",
      "metadata": {
        "id": "Z8F2KlvvQpzA"
      },
      "source": [
        "## TENGO MAS AÑOS EN UN DF QUE EN OTRO // DEBERIA CONSIDERAR FILTRAR EL DF DE VENTAS PARA QUEDARME CON LOS DATOS DE LOS AÑOS DEL DF DE ALQUILERES"
      ],
      "execution_count": null,
      "outputs": []
    },
    {
      "cell_type": "code",
      "metadata": {
        "id": "PGRVpYjSQUHn",
        "colab": {
          "base_uri": "https://localhost:8080/"
        },
        "outputId": "24846797-0fbb-4311-a509-93b4622c5106"
      },
      "source": [
        "precio_alq.anio.unique()"
      ],
      "execution_count": null,
      "outputs": [
        {
          "output_type": "execute_result",
          "data": {
            "text/plain": [
              "array([2013, 2014, 2015, 2016, 2017, 2018, 2019])"
            ]
          },
          "metadata": {
            "tags": []
          },
          "execution_count": 13
        }
      ]
    },
    {
      "cell_type": "code",
      "metadata": {
        "id": "OOWsSqxmQaBf",
        "colab": {
          "base_uri": "https://localhost:8080/"
        },
        "outputId": "214d3125-c558-44fb-e2de-48a9346a3e50"
      },
      "source": [
        "precio_vta.año.unique()"
      ],
      "execution_count": null,
      "outputs": [
        {
          "output_type": "execute_result",
          "data": {
            "text/plain": [
              "array([2010, 2011, 2012, 2013, 2014, 2015, 2016, 2017, 2018, 2019])"
            ]
          },
          "metadata": {
            "tags": []
          },
          "execution_count": 14
        }
      ]
    },
    {
      "cell_type": "code",
      "metadata": {
        "id": "C8hCS-vUQ46d"
      },
      "source": [
        "a = precio_alq.groupby(['barrio','anio', 'ambientes'], as_index=False)['precio_prom'].mean().sort_values('precio_prom', ascending=False)\n",
        "a= a.reset_index(drop=True)\n",
        "a.head()"
      ],
      "execution_count": null,
      "outputs": []
    },
    {
      "cell_type": "code",
      "metadata": {
        "id": "ZhArpXu0WEq9"
      },
      "source": [
        "a.info()  ## TENGO UN MONTON DE VALORES NULOS "
      ],
      "execution_count": null,
      "outputs": []
    },
    {
      "cell_type": "code",
      "metadata": {
        "id": "pss9b84cYPUk"
      },
      "source": [
        "pd.options.display.float_format = '{:.2f}'.format"
      ],
      "execution_count": 6,
      "outputs": []
    },
    {
      "cell_type": "code",
      "metadata": {
        "colab": {
          "base_uri": "https://localhost:8080/"
        },
        "id": "46Nbti8BfCxM",
        "outputId": "ff80d538-3ddb-4301-8574-83da26523c9b"
      },
      "source": [
        "a.precio_prom.isna().sum()   ## VALORES NULOS "
      ],
      "execution_count": 7,
      "outputs": [
        {
          "output_type": "execute_result",
          "data": {
            "text/plain": [
              "364"
            ]
          },
          "metadata": {
            "tags": []
          },
          "execution_count": 7
        }
      ]
    },
    {
      "cell_type": "code",
      "metadata": {
        "id": "aNcmw53GWwle"
      },
      "source": [
        "b = a.loc[(a.precio_prom >=0),:].sort_values(by='precio_prom',ascending=True)   ## ACA TENGO FILTRADO POR AÑO Y SIN VALORES NULOS \n",
        "b = b.reset_index(drop=True)\n",
        "b = b.rename(columns={'anio':'año'})  ## ASI CAMBIO EL NOMBRE DE LA COLUMNA\n",
        "b.head()"
      ],
      "execution_count": null,
      "outputs": []
    },
    {
      "cell_type": "code",
      "metadata": {
        "id": "wvGFUPaCa4px"
      },
      "source": [
        "b['ambientes'] = b['ambientes'].replace(\n",
        "    {'2 ambientes': \"2\", \n",
        "     '3 ambientes': \"3\"}) "
      ],
      "execution_count": 9,
      "outputs": []
    },
    {
      "cell_type": "code",
      "metadata": {
        "id": "uzv7ortucL0c"
      },
      "source": [
        "b['ambientes'].astype(str).astype(int)"
      ],
      "execution_count": null,
      "outputs": []
    },
    {
      "cell_type": "code",
      "metadata": {
        "colab": {
          "base_uri": "https://localhost:8080/",
          "height": 541
        },
        "id": "MT6sPeXJYItm",
        "outputId": "514adb9b-374d-4c3f-84bc-a504c60fd059"
      },
      "source": [
        "fig1 = px.bar(data_frame = b,\n",
        "            x = b['barrio'],\n",
        "            y = b['precio_prom'],\n",
        "            color = b['año'],\n",
        "            facet_col = b['ambientes'],\n",
        "            title = 'Precio promedio de alquileres en CABA por Barrio y Ambientes - Años 2013 a 2019',\n",
        "            labels = {'precio_prom' : 'Precio Promedio' , 'barrio' : 'Barrio'}\n",
        "        )\n",
        "fig1.update_layout(\n",
        "    showlegend = False,\n",
        "    title = {\"x\":0.5,#centrar\n",
        "             \"y\":0.9,#bajar\n",
        "             \"font\":{\"size\":20, \"color\": \"grey\"}\n",
        "             }  \n",
        ")\n",
        "plt.show()\n",
        "fig1"
      ],
      "execution_count": 11,
      "outputs": [
        {
          "output_type": "display_data",
          "data": {
            "text/html": [
              "<html>\n",
              "<head><meta charset=\"utf-8\" /></head>\n",
              "<body>\n",
              "    <div>            <script src=\"https://cdnjs.cloudflare.com/ajax/libs/mathjax/2.7.5/MathJax.js?config=TeX-AMS-MML_SVG\"></script><script type=\"text/javascript\">if (window.MathJax) {MathJax.Hub.Config({SVG: {font: \"STIX-Web\"}});}</script>                <script type=\"text/javascript\">window.PlotlyConfig = {MathJaxConfig: 'local'};</script>\n",
              "        <script src=\"https://cdn.plot.ly/plotly-latest.min.js\"></script>                <div id=\"feb3c8fd-be72-4d20-a8d3-8fe165bc5644\" class=\"plotly-graph-div\" style=\"height:525px; width:100%;\"></div>            <script type=\"text/javascript\">                                    window.PLOTLYENV=window.PLOTLYENV || {};                                    if (document.getElementById(\"feb3c8fd-be72-4d20-a8d3-8fe165bc5644\")) {                    Plotly.newPlot(                        \"feb3c8fd-be72-4d20-a8d3-8fe165bc5644\",                        [{\"alignmentgroup\": \"True\", \"hovertemplate\": \"ambientes=2<br>Barrio=%{x}<br>Precio Promedio=%{y}<br>a\\u00f1o=%{marker.color}<extra></extra>\", \"legendgroup\": \"\", \"marker\": {\"color\": [2013, 2013, 2013, 2013, 2013, 2013, 2013, 2013, 2013, 2013, 2013, 2013, 2013, 2013, 2013, 2013, 2013, 2013, 2013, 2013, 2013, 2013, 2013, 2013, 2013, 2013, 2013, 2013, 2013, 2013, 2013, 2013, 2014, 2013, 2013, 2013, 2013, 2014, 2014, 2014, 2014, 2014, 2014, 2015, 2013, 2014, 2014, 2014, 2014, 2014, 2015, 2014, 2015, 2014, 2015, 2015, 2015, 2015, 2015, 2015, 2015, 2014, 2015, 2015, 2015, 2015, 2015, 2015, 2015, 2015, 2015, 2015, 2015, 2015, 2015, 2015, 2015, 2016, 2015, 2015, 2015, 2016, 2016, 2016, 2015, 2016, 2016, 2016, 2016, 2016, 2016, 2016, 2017, 2013, 2016, 2016, 2016, 2016, 2016, 2016, 2016, 2016, 2017, 2016, 2017, 2016, 2017, 2017, 2016, 2016, 2017, 2017, 2016, 2016, 2017, 2016, 2017, 2017, 2016, 2017, 2016, 2016, 2017, 2016, 2017, 2017, 2017, 2017, 2016, 2017, 2016, 2016, 2018, 2017, 2017, 2018, 2017, 2017, 2017, 2017, 2018, 2018, 2017, 2017, 2018, 2017, 2017, 2018, 2017, 2017, 2017, 2018, 2018, 2018, 2018, 2018, 2018, 2018, 2017, 2018, 2018, 2015, 2018, 2018, 2018, 2018, 2018, 2018, 2019, 2018, 2018, 2018, 2019, 2018, 2018, 2018, 2019, 2018, 2019, 2019, 2019, 2018, 2019, 2019, 2019, 2016, 2019, 2019, 2017, 2019, 2019, 2019, 2019, 2019, 2019], \"coloraxis\": \"coloraxis\"}, \"name\": \"\", \"offsetgroup\": \"\", \"orientation\": \"v\", \"showlegend\": false, \"textposition\": \"auto\", \"type\": \"bar\", \"x\": [\"LINIERS\", \"VILLA LURO\", \"VILLA REAL\", \"VELEZ SARSFIELD\", \"VILLA GRAL. MITRE\", \"VILLA SANTA RITA\", \"FLORESTA\", \"MONSERRAT\", \"VILLA LUGANO\", \"FLORES\", \"PARQUE AVELLANEDA\", \"VILLA DEL PARQUE\", \"PARQUE CHACABUCO\", \"BALVANERA\", \"MONTE CASTRO\", \"BARRACAS\", \"VILLA DEVOTO\", \"MATADEROS\", \"BOEDO\", \"CABALLITO\", \"SAN NICOLAS\", \"NUEVA POMPEYA\", \"ALMAGRO\", \"PARQUE PATRICIOS\", \"RETIRO\", \"PARQUE CHAS\", \"VILLA CRESPO\", \"VILLA ORTUZAR\", \"CHACARITA\", \"VILLA URQUIZA\", \"VILLA PUEYRREDON\", \"SAAVEDRA\", \"FLORES\", \"COLEGIALES\", \"BELGRANO\", \"RECOLETA\", \"NU\\u00d1EZ\", \"BALVANERA\", \"COLEGIALES\", \"VILLA DEL PARQUE\", \"SAN NICOLAS\", \"VILLA DEVOTO\", \"CABALLITO\", \"LINIERS\", \"PALERMO\", \"ALMAGRO\", \"VILLA CRESPO\", \"VILLA URQUIZA\", \"SAAVEDRA\", \"BELGRANO\", \"FLORESTA\", \"NU\\u00d1EZ\", \"FLORES\", \"RECOLETA\", \"VILLA GRAL. MITRE\", \"VELEZ SARSFIELD\", \"VILLA LURO\", \"VILLA SANTA RITA\", \"BALVANERA\", \"MATADEROS\", \"MONTE CASTRO\", \"PALERMO\", \"VILLA DEL PARQUE\", \"VILLA DEVOTO\", \"SAN NICOLAS\", \"PARQUE CHACABUCO\", \"VILLA CRESPO\", \"CABALLITO\", \"BARRACAS\", \"SAAVEDRA\", \"ALMAGRO\", \"VILLA PUEYRREDON\", \"VILLA URQUIZA\", \"RETIRO\", \"COGHLAN\", \"CHACARITA\", \"NU\\u00d1EZ\", \"VILLA GRAL. MITRE\", \"RECOLETA\", \"BELGRANO\", \"COLEGIALES\", \"PARQUE AVELLANEDA\", \"MONTE CASTRO\", \"FLORES\", \"PALERMO\", \"BOCA\", \"LINIERS\", \"VELEZ SARSFIELD\", \"FLORESTA\", \"VILLA DEL PARQUE\", \"MATADEROS\", \"BALVANERA\", \"LINIERS\", \"PUERTO MADERO\", \"CABALLITO\", \"SAN NICOLAS\", \"VILLA SANTA RITA\", \"VILLA LURO\", \"VILLA PUEYRREDON\", \"BARRACAS\", \"ALMAGRO\", \"VILLA DEVOTO\", \"BOCA\", \"VILLA CRESPO\", \"VELEZ SARSFIELD\", \"MONSERRAT\", \"MATADEROS\", \"VILLA LURO\", \"PARQUE CHACABUCO\", \"VILLA URQUIZA\", \"VILLA GRAL. MITRE\", \"MONTE CASTRO\", \"BOEDO\", \"BELGRANO\", \"FLORESTA\", \"VILLA ORTUZAR\", \"VILLA PUEYRREDON\", \"MONSERRAT\", \"RECOLETA\", \"PARQUE CHACABUCO\", \"CHACARITA\", \"NU\\u00d1EZ\", \"FLORES\", \"SAAVEDRA\", \"SAN NICOLAS\", \"VILLA DEL PARQUE\", \"VILLA DEVOTO\", \"BARRACAS\", \"COLEGIALES\", \"BALVANERA\", \"RETIRO\", \"PALERMO\", \"PARQUE AVELLANEDA\", \"ALMAGRO\", \"CABALLITO\", \"LINIERS\", \"VILLA CRESPO\", \"SAN CRISTOBAL\", \"RETIRO\", \"CHACARITA\", \"MONTE CASTRO\", \"MATADEROS\", \"VILLA URQUIZA\", \"COGHLAN\", \"FLORESTA\", \"COLEGIALES\", \"BELGRANO\", \"VILLA GRAL. MITRE\", \"RECOLETA\", \"NU\\u00d1EZ\", \"SAAVEDRA\", \"VELEZ SARSFIELD\", \"VILLA DEL PARQUE\", \"VILLA PUEYRREDON\", \"BALVANERA\", \"FLORES\", \"BOCA\", \"SAN NICOLAS\", \"PALERMO\", \"PARQUE CHACABUCO\", \"SAN CRISTOBAL\", \"PUERTO MADERO\", \"CABALLITO\", \"VILLA DEVOTO\", \"ALMAGRO\", \"BOEDO\", \"VILLA CRESPO\", \"VILLA URQUIZA\", \"SAN CRISTOBAL\", \"SAAVEDRA\", \"CHACARITA\", \"RECOLETA\", \"FLORES\", \"COLEGIALES\", \"NU\\u00d1EZ\", \"BELGRANO\", \"VILLA DEVOTO\", \"RETIRO\", \"VILLA DEL PARQUE\", \"BALVANERA\", \"SAN NICOLAS\", \"PALERMO\", \"MONSERRAT\", \"CABALLITO\", \"ALMAGRO\", \"PUERTO MADERO\", \"VILLA CRESPO\", \"VILLA URQUIZA\", \"PUERTO MADERO\", \"RETIRO\", \"RECOLETA\", \"COLEGIALES\", \"BELGRANO\", \"NU\\u00d1EZ\", \"PALERMO\"], \"xaxis\": \"x\", \"y\": [2331.0, 2414.3333333333335, 2439.0, 2442.0, 2457.6666666666665, 2482.25, 2507.5, 2538.0, 2552.0, 2600.1666666666665, 2627.0, 2652.6666666666665, 2673.8, 2677.6666666666665, 2703.0, 2720.2, 2744.0, 2762.3333333333335, 2766.5, 2798.6666666666665, 2798.8, 2800.0, 2839.1666666666665, 2844.6666666666665, 2867.5, 2874.5, 2897.1666666666665, 2900.0, 2913.6, 2934.1666666666665, 2947.6, 2956.1666666666665, 3052.75, 3068.5, 3089.3333333333335, 3108.5, 3157.1666666666665, 3192.9166666666665, 3276.25, 3326.375, 3335.5, 3343.2, 3344.25, 3366.0, 3403.0, 3468.1666666666665, 3531.8333333333335, 3606.2727272727275, 3698.5, 3772.9166666666665, 3831.8333333333335, 3844.5454545454545, 3851.5555555555557, 3883.6666666666665, 3914.0, 3931.0, 3958.0, 3991.0, 4023.875, 4050.0, 4068.0, 4166.916666666667, 4263.714285714285, 4319.8, 4335.0, 4378.5, 4379.666666666667, 4403.416666666667, 4435.0, 4519.0, 4561.5, 4649.0, 4649.090909090909, 4687.0, 4778.0, 4797.0, 4883.0, 4977.0, 4996.272727272727, 5039.833333333333, 5220.333333333333, 5284.0, 5449.333333333333, 5476.583333333333, 5495.416666666667, 5567.5, 5592.714285714285, 5611.666666666667, 5622.555555555556, 5723.083333333333, 5751.166666666667, 5753.363636363636, 5952.833333333333, 5989.0, 6068.833333333333, 6073.6, 6075.0, 6111.0, 6120.333333333333, 6124.333333333333, 6175.583333333333, 6181.111111111111, 6231.0, 6344.833333333333, 6359.5, 6404.666666666667, 6414.333333333333, 6415.0, 6422.25, 6437.333333333333, 6454.5, 6496.666666666667, 6622.5, 6836.166666666667, 6904.555555555556, 6960.0, 6982.0, 7012.0, 7166.416666666667, 7182.714285714285, 7254.25, 7284.125, 7334.333333333333, 7352.0, 7408.0, 7430.916666666667, 7456.444444444444, 7494.5, 7516.2, 7527.416666666667, 7622.25, 7844.916666666667, 7968.0, 7983.166666666667, 8164.083333333333, 8190.75, 8228.25, 8239.0, 8308.8, 8404.285714285714, 8600.0, 8666.0, 8734.75, 8742.0, 8853.0, 9258.1, 9358.416666666666, 9424.0, 9582.5, 9603.181818181818, 9613.25, 9727.0, 9874.8, 9882.666666666666, 9961.6, 10095.583333333334, 10216.0, 10223.5, 10366.333333333334, 10688.5, 10699.333333333334, 10835.333333333334, 10882.333333333334, 10900.444444444445, 10913.583333333334, 11292.5, 11501.454545454546, 12082.416666666666, 12087.0, 12181.0, 12288.75, 12388.25, 12514.625, 12563.333333333334, 12761.2, 12785.25, 12885.0, 12951.0, 13133.857142857143, 13206.0, 13305.5, 13674.75, 13756.0, 13802.25, 13970.875, 14174.333333333334, 14395.42857142857, 14716.57142857143, 15090.0, 15360.5, 15522.75, 15846.8, 16001.125, 16522.875, 17297.25], \"yaxis\": \"y\"}, {\"alignmentgroup\": \"True\", \"hovertemplate\": \"ambientes=3<br>Barrio=%{x}<br>Precio Promedio=%{y}<br>a\\u00f1o=%{marker.color}<extra></extra>\", \"legendgroup\": \"\", \"marker\": {\"color\": [2013, 2013, 2013, 2013, 2013, 2013, 2013, 2013, 2013, 2013, 2013, 2013, 2013, 2014, 2013, 2013, 2013, 2014, 2013, 2013, 2013, 2013, 2013, 2013, 2013, 2014, 2013, 2015, 2013, 2014, 2013, 2014, 2013, 2014, 2013, 2015, 2015, 2014, 2014, 2014, 2015, 2015, 2016, 2014, 2015, 2015, 2015, 2015, 2015, 2015, 2015, 2015, 2016, 2017, 2015, 2016, 2016, 2016, 2016, 2017, 2016, 2016, 2016, 2016, 2016, 2016, 2017, 2017, 2016, 2017, 2017, 2016, 2016, 2017, 2017, 2017, 2016, 2017, 2016, 2017, 2017, 2016, 2017, 2017, 2017, 2018, 2018, 2018, 2017, 2017, 2018, 2018, 2018, 2018, 2018, 2018, 2018, 2018, 2019, 2018, 2019, 2018, 2019, 2019, 2016, 2017, 2019, 2019, 2019, 2019, 2018, 2019, 2019], \"coloraxis\": \"coloraxis\"}, \"name\": \"\", \"offsetgroup\": \"\", \"orientation\": \"v\", \"showlegend\": false, \"textposition\": \"auto\", \"type\": \"bar\", \"x\": [\"VILLA LUGANO\", \"FLORESTA\", \"LINIERS\", \"VILLA SANTA RITA\", \"VELEZ SARSFIELD\", \"PARQUE CHACABUCO\", \"MATADEROS\", \"BALVANERA\", \"FLORES\", \"VILLA LURO\", \"VILLA CRESPO\", \"VILLA DEL PARQUE\", \"CABALLITO\", \"VILLA CRESPO\", \"ALMAGRO\", \"VILLA RIACHUELO\", \"VILLA DEVOTO\", \"BALVANERA\", \"RETIRO\", \"MONTE CASTRO\", \"BARRACAS\", \"SAAVEDRA\", \"VILLA URQUIZA\", \"RECOLETA\", \"BELGRANO\", \"FLORES\", \"COLEGIALES\", \"VILLA LUGANO\", \"PARQUE PATRICIOS\", \"CABALLITO\", \"CHACARITA\", \"VILLA URQUIZA\", \"NU\\u00d1EZ\", \"ALMAGRO\", \"PALERMO\", \"FLORES\", \"FLORESTA\", \"RECOLETA\", \"NU\\u00d1EZ\", \"BELGRANO\", \"BALVANERA\", \"VILLA DEL PARQUE\", \"VILLA LUGANO\", \"PALERMO\", \"VILLA DEVOTO\", \"ALMAGRO\", \"CABALLITO\", \"VILLA CRESPO\", \"VILLA URQUIZA\", \"BELGRANO\", \"NU\\u00d1EZ\", \"RECOLETA\", \"FLORES\", \"LINIERS\", \"PALERMO\", \"PARQUE AVELLANEDA\", \"FLORESTA\", \"BALVANERA\", \"VILLA LURO\", \"FLORESTA\", \"VILLA CRESPO\", \"CABALLITO\", \"VILLA DEL PARQUE\", \"ALMAGRO\", \"VILLA DEVOTO\", \"VILLA URQUIZA\", \"FLORES\", \"BALVANERA\", \"RECOLETA\", \"VILLA PUEYRREDON\", \"VILLA DEL PARQUE\", \"BELGRANO\", \"PARQUE CHACABUCO\", \"VILLA DEVOTO\", \"CABALLITO\", \"ALMAGRO\", \"PALERMO\", \"VILLA CRESPO\", \"NU\\u00d1EZ\", \"RETIRO\", \"RECOLETA\", \"CHACARITA\", \"VILLA URQUIZA\", \"COLEGIALES\", \"BELGRANO\", \"FLORES\", \"VILLA DEL PARQUE\", \"BALVANERA\", \"NU\\u00d1EZ\", \"PALERMO\", \"VILLA CRESPO\", \"CABALLITO\", \"ALMAGRO\", \"NU\\u00d1EZ\", \"RETIRO\", \"COLEGIALES\", \"VILLA URQUIZA\", \"RECOLETA\", \"FLORES\", \"BELGRANO\", \"BALVANERA\", \"PALERMO\", \"ALMAGRO\", \"CABALLITO\", \"PUERTO MADERO\", \"PUERTO MADERO\", \"RETIRO\", \"VILLA URQUIZA\", \"RECOLETA\", \"BELGRANO\", \"PUERTO MADERO\", \"PALERMO\", \"NU\\u00d1EZ\"], \"xaxis\": \"x2\", \"y\": [3078.0, 3414.0, 3498.5, 3600.0, 3639.0, 3736.0, 3759.0, 3778.6666666666665, 3787.3333333333335, 3919.0, 3941.6666666666665, 4014.8, 4128.833333333333, 4141.5, 4141.666666666667, 4200.0, 4291.0, 4311.25, 4314.0, 4333.0, 4355.0, 4530.0, 4530.166666666667, 4532.0, 4532.666666666667, 4536.6, 4552.5, 4690.0, 4737.0, 5064.583333333333, 5130.5, 5133.666666666667, 5209.333333333333, 5221.777777777777, 5312.666666666667, 5629.125, 5640.0, 5789.4, 5801.5, 5834.083333333333, 5917.0, 5975.333333333333, 6201.75, 6418.75, 6420.666666666667, 6475.5, 6595.888888888889, 6896.666666666667, 7139.0, 7438.7, 7639.0, 7914.6, 7999.111111111111, 8314.666666666666, 8428.0, 8473.0, 8515.0, 8605.6, 8768.5, 8776.0, 9005.555555555555, 9162.916666666666, 9213.4, 9452.333333333334, 9793.0, 10010.875, 10495.3, 10554.75, 10697.75, 10903.0, 11022.666666666666, 11038.2, 11070.0, 11483.25, 12233.25, 12351.5, 12603.2, 12865.5, 13404.0, 13433.0, 14024.583333333334, 14159.0, 14172.583333333334, 14430.0, 14573.75, 14759.111111111111, 15139.333333333334, 15148.0, 15674.75, 16457.333333333332, 16633.0, 16861.416666666668, 16876.75, 16986.0, 17451.0, 18206.0, 18545.3, 18563.333333333332, 18674.5, 19078.333333333332, 19515.0, 19636.25, 20379.0, 20663.5, 20855.0, 21729.333333333332, 21972.0, 22856.85714285714, 23171.125, 23688.625, 24413.0, 24903.125, 24924.5], \"yaxis\": \"y2\"}],                        {\"annotations\": [{\"font\": {}, \"showarrow\": false, \"text\": \"ambientes=2\", \"x\": 0.245, \"xanchor\": \"center\", \"xref\": \"paper\", \"y\": 1.0, \"yanchor\": \"bottom\", \"yref\": \"paper\"}, {\"font\": {}, \"showarrow\": false, \"text\": \"ambientes=3\", \"x\": 0.755, \"xanchor\": \"center\", \"xref\": \"paper\", \"y\": 1.0, \"yanchor\": \"bottom\", \"yref\": \"paper\"}], \"barmode\": \"relative\", \"coloraxis\": {\"colorbar\": {\"title\": {\"text\": \"a\\u00f1o\"}}, \"colorscale\": [[0.0, \"#0d0887\"], [0.1111111111111111, \"#46039f\"], [0.2222222222222222, \"#7201a8\"], [0.3333333333333333, \"#9c179e\"], [0.4444444444444444, \"#bd3786\"], [0.5555555555555556, \"#d8576b\"], [0.6666666666666666, \"#ed7953\"], [0.7777777777777778, \"#fb9f3a\"], [0.8888888888888888, \"#fdca26\"], [1.0, \"#f0f921\"]]}, \"legend\": {\"tracegroupgap\": 0}, \"showlegend\": false, \"template\": {\"data\": {\"bar\": [{\"error_x\": {\"color\": \"#2a3f5f\"}, \"error_y\": {\"color\": \"#2a3f5f\"}, \"marker\": {\"line\": {\"color\": \"#E5ECF6\", \"width\": 0.5}}, \"type\": \"bar\"}], \"barpolar\": [{\"marker\": {\"line\": {\"color\": \"#E5ECF6\", \"width\": 0.5}}, \"type\": \"barpolar\"}], \"carpet\": [{\"aaxis\": {\"endlinecolor\": \"#2a3f5f\", \"gridcolor\": \"white\", \"linecolor\": \"white\", \"minorgridcolor\": \"white\", \"startlinecolor\": \"#2a3f5f\"}, \"baxis\": {\"endlinecolor\": \"#2a3f5f\", \"gridcolor\": \"white\", \"linecolor\": \"white\", \"minorgridcolor\": \"white\", \"startlinecolor\": \"#2a3f5f\"}, \"type\": \"carpet\"}], \"choropleth\": [{\"colorbar\": {\"outlinewidth\": 0, \"ticks\": \"\"}, \"type\": \"choropleth\"}], \"contour\": [{\"colorbar\": {\"outlinewidth\": 0, \"ticks\": \"\"}, \"colorscale\": [[0.0, \"#0d0887\"], [0.1111111111111111, \"#46039f\"], [0.2222222222222222, \"#7201a8\"], [0.3333333333333333, \"#9c179e\"], [0.4444444444444444, \"#bd3786\"], [0.5555555555555556, \"#d8576b\"], [0.6666666666666666, \"#ed7953\"], [0.7777777777777778, \"#fb9f3a\"], [0.8888888888888888, \"#fdca26\"], [1.0, \"#f0f921\"]], \"type\": \"contour\"}], \"contourcarpet\": [{\"colorbar\": {\"outlinewidth\": 0, \"ticks\": \"\"}, \"type\": \"contourcarpet\"}], \"heatmap\": [{\"colorbar\": {\"outlinewidth\": 0, \"ticks\": \"\"}, \"colorscale\": [[0.0, \"#0d0887\"], [0.1111111111111111, \"#46039f\"], [0.2222222222222222, \"#7201a8\"], [0.3333333333333333, \"#9c179e\"], [0.4444444444444444, \"#bd3786\"], [0.5555555555555556, \"#d8576b\"], [0.6666666666666666, \"#ed7953\"], [0.7777777777777778, \"#fb9f3a\"], [0.8888888888888888, \"#fdca26\"], [1.0, \"#f0f921\"]], \"type\": \"heatmap\"}], \"heatmapgl\": [{\"colorbar\": {\"outlinewidth\": 0, \"ticks\": \"\"}, \"colorscale\": [[0.0, \"#0d0887\"], [0.1111111111111111, \"#46039f\"], [0.2222222222222222, \"#7201a8\"], [0.3333333333333333, \"#9c179e\"], [0.4444444444444444, \"#bd3786\"], [0.5555555555555556, \"#d8576b\"], [0.6666666666666666, \"#ed7953\"], [0.7777777777777778, \"#fb9f3a\"], [0.8888888888888888, \"#fdca26\"], [1.0, \"#f0f921\"]], \"type\": \"heatmapgl\"}], \"histogram\": [{\"marker\": {\"colorbar\": {\"outlinewidth\": 0, \"ticks\": \"\"}}, \"type\": \"histogram\"}], \"histogram2d\": [{\"colorbar\": {\"outlinewidth\": 0, \"ticks\": \"\"}, \"colorscale\": [[0.0, \"#0d0887\"], [0.1111111111111111, \"#46039f\"], [0.2222222222222222, \"#7201a8\"], [0.3333333333333333, \"#9c179e\"], [0.4444444444444444, \"#bd3786\"], [0.5555555555555556, \"#d8576b\"], [0.6666666666666666, \"#ed7953\"], [0.7777777777777778, \"#fb9f3a\"], [0.8888888888888888, \"#fdca26\"], [1.0, \"#f0f921\"]], \"type\": \"histogram2d\"}], \"histogram2dcontour\": [{\"colorbar\": {\"outlinewidth\": 0, \"ticks\": \"\"}, \"colorscale\": [[0.0, \"#0d0887\"], [0.1111111111111111, \"#46039f\"], [0.2222222222222222, \"#7201a8\"], [0.3333333333333333, \"#9c179e\"], [0.4444444444444444, \"#bd3786\"], [0.5555555555555556, \"#d8576b\"], [0.6666666666666666, \"#ed7953\"], [0.7777777777777778, \"#fb9f3a\"], [0.8888888888888888, \"#fdca26\"], [1.0, \"#f0f921\"]], \"type\": \"histogram2dcontour\"}], \"mesh3d\": [{\"colorbar\": {\"outlinewidth\": 0, \"ticks\": \"\"}, \"type\": \"mesh3d\"}], \"parcoords\": [{\"line\": {\"colorbar\": {\"outlinewidth\": 0, \"ticks\": \"\"}}, \"type\": \"parcoords\"}], \"pie\": [{\"automargin\": true, \"type\": \"pie\"}], \"scatter\": [{\"marker\": {\"colorbar\": {\"outlinewidth\": 0, \"ticks\": \"\"}}, \"type\": \"scatter\"}], \"scatter3d\": [{\"line\": {\"colorbar\": {\"outlinewidth\": 0, \"ticks\": \"\"}}, \"marker\": {\"colorbar\": {\"outlinewidth\": 0, \"ticks\": \"\"}}, \"type\": \"scatter3d\"}], \"scattercarpet\": [{\"marker\": {\"colorbar\": {\"outlinewidth\": 0, \"ticks\": \"\"}}, \"type\": \"scattercarpet\"}], \"scattergeo\": [{\"marker\": {\"colorbar\": {\"outlinewidth\": 0, \"ticks\": \"\"}}, \"type\": \"scattergeo\"}], \"scattergl\": [{\"marker\": {\"colorbar\": {\"outlinewidth\": 0, \"ticks\": \"\"}}, \"type\": \"scattergl\"}], \"scattermapbox\": [{\"marker\": {\"colorbar\": {\"outlinewidth\": 0, \"ticks\": \"\"}}, \"type\": \"scattermapbox\"}], \"scatterpolar\": [{\"marker\": {\"colorbar\": {\"outlinewidth\": 0, \"ticks\": \"\"}}, \"type\": \"scatterpolar\"}], \"scatterpolargl\": [{\"marker\": {\"colorbar\": {\"outlinewidth\": 0, \"ticks\": \"\"}}, \"type\": \"scatterpolargl\"}], \"scatterternary\": [{\"marker\": {\"colorbar\": {\"outlinewidth\": 0, \"ticks\": \"\"}}, \"type\": \"scatterternary\"}], \"surface\": [{\"colorbar\": {\"outlinewidth\": 0, \"ticks\": \"\"}, \"colorscale\": [[0.0, \"#0d0887\"], [0.1111111111111111, \"#46039f\"], [0.2222222222222222, \"#7201a8\"], [0.3333333333333333, \"#9c179e\"], [0.4444444444444444, \"#bd3786\"], [0.5555555555555556, \"#d8576b\"], [0.6666666666666666, \"#ed7953\"], [0.7777777777777778, \"#fb9f3a\"], [0.8888888888888888, \"#fdca26\"], [1.0, \"#f0f921\"]], \"type\": \"surface\"}], \"table\": [{\"cells\": {\"fill\": {\"color\": \"#EBF0F8\"}, \"line\": {\"color\": \"white\"}}, \"header\": {\"fill\": {\"color\": \"#C8D4E3\"}, \"line\": {\"color\": \"white\"}}, \"type\": \"table\"}]}, \"layout\": {\"annotationdefaults\": {\"arrowcolor\": \"#2a3f5f\", \"arrowhead\": 0, \"arrowwidth\": 1}, \"autotypenumbers\": \"strict\", \"coloraxis\": {\"colorbar\": {\"outlinewidth\": 0, \"ticks\": \"\"}}, \"colorscale\": {\"diverging\": [[0, \"#8e0152\"], [0.1, \"#c51b7d\"], [0.2, \"#de77ae\"], [0.3, \"#f1b6da\"], [0.4, \"#fde0ef\"], [0.5, \"#f7f7f7\"], [0.6, \"#e6f5d0\"], [0.7, \"#b8e186\"], [0.8, \"#7fbc41\"], [0.9, \"#4d9221\"], [1, \"#276419\"]], \"sequential\": [[0.0, \"#0d0887\"], [0.1111111111111111, \"#46039f\"], [0.2222222222222222, \"#7201a8\"], [0.3333333333333333, \"#9c179e\"], [0.4444444444444444, \"#bd3786\"], [0.5555555555555556, \"#d8576b\"], [0.6666666666666666, \"#ed7953\"], [0.7777777777777778, \"#fb9f3a\"], [0.8888888888888888, \"#fdca26\"], [1.0, \"#f0f921\"]], \"sequentialminus\": [[0.0, \"#0d0887\"], [0.1111111111111111, \"#46039f\"], [0.2222222222222222, \"#7201a8\"], [0.3333333333333333, \"#9c179e\"], [0.4444444444444444, \"#bd3786\"], [0.5555555555555556, \"#d8576b\"], [0.6666666666666666, \"#ed7953\"], [0.7777777777777778, \"#fb9f3a\"], [0.8888888888888888, \"#fdca26\"], [1.0, \"#f0f921\"]]}, \"colorway\": [\"#636efa\", \"#EF553B\", \"#00cc96\", \"#ab63fa\", \"#FFA15A\", \"#19d3f3\", \"#FF6692\", \"#B6E880\", \"#FF97FF\", \"#FECB52\"], \"font\": {\"color\": \"#2a3f5f\"}, \"geo\": {\"bgcolor\": \"white\", \"lakecolor\": \"white\", \"landcolor\": \"#E5ECF6\", \"showlakes\": true, \"showland\": true, \"subunitcolor\": \"white\"}, \"hoverlabel\": {\"align\": \"left\"}, \"hovermode\": \"closest\", \"mapbox\": {\"style\": \"light\"}, \"paper_bgcolor\": \"white\", \"plot_bgcolor\": \"#E5ECF6\", \"polar\": {\"angularaxis\": {\"gridcolor\": \"white\", \"linecolor\": \"white\", \"ticks\": \"\"}, \"bgcolor\": \"#E5ECF6\", \"radialaxis\": {\"gridcolor\": \"white\", \"linecolor\": \"white\", \"ticks\": \"\"}}, \"scene\": {\"xaxis\": {\"backgroundcolor\": \"#E5ECF6\", \"gridcolor\": \"white\", \"gridwidth\": 2, \"linecolor\": \"white\", \"showbackground\": true, \"ticks\": \"\", \"zerolinecolor\": \"white\"}, \"yaxis\": {\"backgroundcolor\": \"#E5ECF6\", \"gridcolor\": \"white\", \"gridwidth\": 2, \"linecolor\": \"white\", \"showbackground\": true, \"ticks\": \"\", \"zerolinecolor\": \"white\"}, \"zaxis\": {\"backgroundcolor\": \"#E5ECF6\", \"gridcolor\": \"white\", \"gridwidth\": 2, \"linecolor\": \"white\", \"showbackground\": true, \"ticks\": \"\", \"zerolinecolor\": \"white\"}}, \"shapedefaults\": {\"line\": {\"color\": \"#2a3f5f\"}}, \"ternary\": {\"aaxis\": {\"gridcolor\": \"white\", \"linecolor\": \"white\", \"ticks\": \"\"}, \"baxis\": {\"gridcolor\": \"white\", \"linecolor\": \"white\", \"ticks\": \"\"}, \"bgcolor\": \"#E5ECF6\", \"caxis\": {\"gridcolor\": \"white\", \"linecolor\": \"white\", \"ticks\": \"\"}}, \"title\": {\"x\": 0.05}, \"xaxis\": {\"automargin\": true, \"gridcolor\": \"white\", \"linecolor\": \"white\", \"ticks\": \"\", \"title\": {\"standoff\": 15}, \"zerolinecolor\": \"white\", \"zerolinewidth\": 2}, \"yaxis\": {\"automargin\": true, \"gridcolor\": \"white\", \"linecolor\": \"white\", \"ticks\": \"\", \"title\": {\"standoff\": 15}, \"zerolinecolor\": \"white\", \"zerolinewidth\": 2}}}, \"title\": {\"font\": {\"color\": \"grey\", \"size\": 20}, \"text\": \"Precio promedio de alquileres en CABA por Barrio y Ambientes - A\\u00f1os 2013 a 2019\", \"x\": 0.5, \"y\": 0.9}, \"xaxis\": {\"anchor\": \"y\", \"domain\": [0.0, 0.49], \"title\": {\"text\": \"Barrio\"}}, \"xaxis2\": {\"anchor\": \"y2\", \"domain\": [0.51, 1.0], \"matches\": \"x\", \"title\": {\"text\": \"Barrio\"}}, \"yaxis\": {\"anchor\": \"x\", \"domain\": [0.0, 1.0], \"title\": {\"text\": \"Precio Promedio\"}}, \"yaxis2\": {\"anchor\": \"x2\", \"domain\": [0.0, 1.0], \"matches\": \"y\", \"showticklabels\": false}},                        {\"responsive\": true}                    ).then(function(){\n",
              "                            \n",
              "var gd = document.getElementById('feb3c8fd-be72-4d20-a8d3-8fe165bc5644');\n",
              "var x = new MutationObserver(function (mutations, observer) {{\n",
              "        var display = window.getComputedStyle(gd).display;\n",
              "        if (!display || display === 'none') {{\n",
              "            console.log([gd, 'removed!']);\n",
              "            Plotly.purge(gd);\n",
              "            observer.disconnect();\n",
              "        }}\n",
              "}});\n",
              "\n",
              "// Listen for the removal of the full notebook cells\n",
              "var notebookContainer = gd.closest('#notebook-container');\n",
              "if (notebookContainer) {{\n",
              "    x.observe(notebookContainer, {childList: true});\n",
              "}}\n",
              "\n",
              "// Listen for the clearing of the current output cell\n",
              "var outputEl = gd.closest('.output');\n",
              "if (outputEl) {{\n",
              "    x.observe(outputEl, {childList: true});\n",
              "}}\n",
              "\n",
              "                        })                };                            </script>        </div>\n",
              "</body>\n",
              "</html>"
            ]
          },
          "metadata": {
            "tags": []
          }
        }
      ]
    },
    {
      "cell_type": "code",
      "metadata": {
        "id": "4Ai2n1zbaS0q"
      },
      "source": [
        "e = b.loc[(b['año'].isin([2018,2019])) ,:]\n",
        "e.head(2)"
      ],
      "execution_count": null,
      "outputs": []
    },
    {
      "cell_type": "code",
      "metadata": {
        "id": "rRMifzqvkJwX",
        "colab": {
          "base_uri": "https://localhost:8080/",
          "height": 541
        },
        "outputId": "62d78b1a-686b-4604-ca5d-59b6a58a09f0"
      },
      "source": [
        "fig2=px.bar(data_frame = e, x= 'barrio', y='precio_prom', color='ambientes', text='año',\n",
        "           title = 'Precio promedio de alquileres  - Años 2018 y 2019',\n",
        "           labels = {'barrio' : 'Barrio' , 'precio_prom' : 'Precio Promedio'}\n",
        "           )\n",
        "fig2.update_layout(showlegend = False,\n",
        "           title = {\"x\":0.5,#centrar\n",
        "                    \"y\":0.9,#bajar\n",
        "                    \"font\":{\"size\":20, \"color\": \"grey\"}\n",
        "                   }  \n",
        ")\n",
        "fig2.update_traces(texttemplate='%{text:0.2s}',textposition='outside'),\n",
        "fig2"
      ],
      "execution_count": 13,
      "outputs": [
        {
          "output_type": "display_data",
          "data": {
            "text/html": [
              "<html>\n",
              "<head><meta charset=\"utf-8\" /></head>\n",
              "<body>\n",
              "    <div>            <script src=\"https://cdnjs.cloudflare.com/ajax/libs/mathjax/2.7.5/MathJax.js?config=TeX-AMS-MML_SVG\"></script><script type=\"text/javascript\">if (window.MathJax) {MathJax.Hub.Config({SVG: {font: \"STIX-Web\"}});}</script>                <script type=\"text/javascript\">window.PlotlyConfig = {MathJaxConfig: 'local'};</script>\n",
              "        <script src=\"https://cdn.plot.ly/plotly-latest.min.js\"></script>                <div id=\"9bac4a39-24f5-47d2-afe3-240c1a309105\" class=\"plotly-graph-div\" style=\"height:525px; width:100%;\"></div>            <script type=\"text/javascript\">                                    window.PLOTLYENV=window.PLOTLYENV || {};                                    if (document.getElementById(\"9bac4a39-24f5-47d2-afe3-240c1a309105\")) {                    Plotly.newPlot(                        \"9bac4a39-24f5-47d2-afe3-240c1a309105\",                        [{\"alignmentgroup\": \"True\", \"hovertemplate\": \"ambientes=2<br>Barrio=%{x}<br>Precio Promedio=%{y}<br>a\\u00f1o=%{text}<extra></extra>\", \"legendgroup\": \"2\", \"marker\": {\"color\": \"#636efa\"}, \"name\": \"2\", \"offsetgroup\": \"2\", \"orientation\": \"v\", \"showlegend\": true, \"text\": [2018.0, 2018.0, 2018.0, 2018.0, 2018.0, 2018.0, 2018.0, 2018.0, 2018.0, 2018.0, 2018.0, 2018.0, 2018.0, 2018.0, 2018.0, 2018.0, 2018.0, 2018.0, 2018.0, 2018.0, 2018.0, 2019.0, 2018.0, 2018.0, 2018.0, 2019.0, 2018.0, 2018.0, 2018.0, 2019.0, 2018.0, 2019.0, 2019.0, 2019.0, 2018.0, 2019.0, 2019.0, 2019.0, 2019.0, 2019.0, 2019.0, 2019.0, 2019.0, 2019.0, 2019.0, 2019.0], \"textposition\": \"outside\", \"texttemplate\": \"%{text:0.2s}\", \"type\": \"bar\", \"x\": [\"PARQUE AVELLANEDA\", \"LINIERS\", \"MONTE CASTRO\", \"MATADEROS\", \"FLORESTA\", \"VILLA GRAL. MITRE\", \"VELEZ SARSFIELD\", \"VILLA DEL PARQUE\", \"VILLA PUEYRREDON\", \"BALVANERA\", \"FLORES\", \"BOCA\", \"SAN NICOLAS\", \"PARQUE CHACABUCO\", \"SAN CRISTOBAL\", \"CABALLITO\", \"VILLA DEVOTO\", \"ALMAGRO\", \"BOEDO\", \"VILLA CRESPO\", \"VILLA URQUIZA\", \"SAN CRISTOBAL\", \"SAAVEDRA\", \"CHACARITA\", \"RECOLETA\", \"FLORES\", \"COLEGIALES\", \"NU\\u00d1EZ\", \"BELGRANO\", \"VILLA DEVOTO\", \"RETIRO\", \"VILLA DEL PARQUE\", \"BALVANERA\", \"SAN NICOLAS\", \"PALERMO\", \"MONSERRAT\", \"CABALLITO\", \"ALMAGRO\", \"VILLA CRESPO\", \"VILLA URQUIZA\", \"RETIRO\", \"RECOLETA\", \"COLEGIALES\", \"BELGRANO\", \"NU\\u00d1EZ\", \"PALERMO\"], \"xaxis\": \"x\", \"y\": [7968.0, 8190.75, 8600.0, 8666.0, 8853.0, 9424.0, 9727.0, 9874.8, 9882.666666666666, 9961.6, 10095.583333333334, 10216.0, 10223.5, 10688.5, 10699.333333333334, 10882.333333333334, 10900.444444444445, 10913.583333333334, 11292.5, 11501.454545454546, 12082.416666666666, 12087.0, 12181.0, 12288.75, 12388.25, 12514.625, 12563.333333333334, 12761.2, 12785.25, 12885.0, 12951.0, 13133.857142857143, 13206.0, 13305.5, 13674.75, 13756.0, 13802.25, 13970.875, 14395.42857142857, 14716.57142857143, 15360.5, 15522.75, 15846.8, 16001.125, 16522.875, 17297.25], \"yaxis\": \"y\"}, {\"alignmentgroup\": \"True\", \"hovertemplate\": \"ambientes=3<br>Barrio=%{x}<br>Precio Promedio=%{y}<br>a\\u00f1o=%{text}<extra></extra>\", \"legendgroup\": \"3\", \"marker\": {\"color\": \"#EF553B\"}, \"name\": \"3\", \"offsetgroup\": \"3\", \"orientation\": \"v\", \"showlegend\": true, \"text\": [2018.0, 2018.0, 2018.0, 2018.0, 2018.0, 2018.0, 2018.0, 2018.0, 2018.0, 2018.0, 2018.0, 2019.0, 2018.0, 2019.0, 2018.0, 2019.0, 2019.0, 2019.0, 2019.0, 2019.0, 2019.0, 2018.0, 2019.0, 2019.0], \"textposition\": \"outside\", \"texttemplate\": \"%{text:0.2s}\", \"type\": \"bar\", \"x\": [\"FLORES\", \"VILLA DEL PARQUE\", \"BALVANERA\", \"VILLA CRESPO\", \"CABALLITO\", \"ALMAGRO\", \"NU\\u00d1EZ\", \"RETIRO\", \"COLEGIALES\", \"VILLA URQUIZA\", \"RECOLETA\", \"FLORES\", \"BELGRANO\", \"BALVANERA\", \"PALERMO\", \"ALMAGRO\", \"CABALLITO\", \"RETIRO\", \"VILLA URQUIZA\", \"RECOLETA\", \"BELGRANO\", \"PUERTO MADERO\", \"PALERMO\", \"NU\\u00d1EZ\"], \"xaxis\": \"x\", \"y\": [14759.111111111111, 15139.333333333334, 15148.0, 16633.0, 16861.416666666668, 16876.75, 16986.0, 17451.0, 18206.0, 18545.3, 18563.333333333332, 18674.5, 19078.333333333332, 19515.0, 19636.25, 20379.0, 20663.5, 21972.0, 22856.85714285714, 23171.125, 23688.625, 24413.0, 24903.125, 24924.5], \"yaxis\": \"y\"}],                        {\"barmode\": \"relative\", \"legend\": {\"title\": {\"text\": \"ambientes\"}, \"tracegroupgap\": 0}, \"showlegend\": false, \"template\": {\"data\": {\"bar\": [{\"error_x\": {\"color\": \"#2a3f5f\"}, \"error_y\": {\"color\": \"#2a3f5f\"}, \"marker\": {\"line\": {\"color\": \"#E5ECF6\", \"width\": 0.5}}, \"type\": \"bar\"}], \"barpolar\": [{\"marker\": {\"line\": {\"color\": \"#E5ECF6\", \"width\": 0.5}}, \"type\": \"barpolar\"}], \"carpet\": [{\"aaxis\": {\"endlinecolor\": \"#2a3f5f\", \"gridcolor\": \"white\", \"linecolor\": \"white\", \"minorgridcolor\": \"white\", \"startlinecolor\": \"#2a3f5f\"}, \"baxis\": {\"endlinecolor\": \"#2a3f5f\", \"gridcolor\": \"white\", \"linecolor\": \"white\", \"minorgridcolor\": \"white\", \"startlinecolor\": \"#2a3f5f\"}, \"type\": \"carpet\"}], \"choropleth\": [{\"colorbar\": {\"outlinewidth\": 0, \"ticks\": \"\"}, \"type\": \"choropleth\"}], \"contour\": [{\"colorbar\": {\"outlinewidth\": 0, \"ticks\": \"\"}, \"colorscale\": [[0.0, \"#0d0887\"], [0.1111111111111111, \"#46039f\"], [0.2222222222222222, \"#7201a8\"], [0.3333333333333333, \"#9c179e\"], [0.4444444444444444, \"#bd3786\"], [0.5555555555555556, \"#d8576b\"], [0.6666666666666666, \"#ed7953\"], [0.7777777777777778, \"#fb9f3a\"], [0.8888888888888888, \"#fdca26\"], [1.0, \"#f0f921\"]], \"type\": \"contour\"}], \"contourcarpet\": [{\"colorbar\": {\"outlinewidth\": 0, \"ticks\": \"\"}, \"type\": \"contourcarpet\"}], \"heatmap\": [{\"colorbar\": {\"outlinewidth\": 0, \"ticks\": \"\"}, \"colorscale\": [[0.0, \"#0d0887\"], [0.1111111111111111, \"#46039f\"], [0.2222222222222222, \"#7201a8\"], [0.3333333333333333, \"#9c179e\"], [0.4444444444444444, \"#bd3786\"], [0.5555555555555556, \"#d8576b\"], [0.6666666666666666, \"#ed7953\"], [0.7777777777777778, \"#fb9f3a\"], [0.8888888888888888, \"#fdca26\"], [1.0, \"#f0f921\"]], \"type\": \"heatmap\"}], \"heatmapgl\": [{\"colorbar\": {\"outlinewidth\": 0, \"ticks\": \"\"}, \"colorscale\": [[0.0, \"#0d0887\"], [0.1111111111111111, \"#46039f\"], [0.2222222222222222, \"#7201a8\"], [0.3333333333333333, \"#9c179e\"], [0.4444444444444444, \"#bd3786\"], [0.5555555555555556, \"#d8576b\"], [0.6666666666666666, \"#ed7953\"], [0.7777777777777778, \"#fb9f3a\"], [0.8888888888888888, \"#fdca26\"], [1.0, \"#f0f921\"]], \"type\": \"heatmapgl\"}], \"histogram\": [{\"marker\": {\"colorbar\": {\"outlinewidth\": 0, \"ticks\": \"\"}}, \"type\": \"histogram\"}], \"histogram2d\": [{\"colorbar\": {\"outlinewidth\": 0, \"ticks\": \"\"}, \"colorscale\": [[0.0, \"#0d0887\"], [0.1111111111111111, \"#46039f\"], [0.2222222222222222, \"#7201a8\"], [0.3333333333333333, \"#9c179e\"], [0.4444444444444444, \"#bd3786\"], [0.5555555555555556, \"#d8576b\"], [0.6666666666666666, \"#ed7953\"], [0.7777777777777778, \"#fb9f3a\"], [0.8888888888888888, \"#fdca26\"], [1.0, \"#f0f921\"]], \"type\": \"histogram2d\"}], \"histogram2dcontour\": [{\"colorbar\": {\"outlinewidth\": 0, \"ticks\": \"\"}, \"colorscale\": [[0.0, \"#0d0887\"], [0.1111111111111111, \"#46039f\"], [0.2222222222222222, \"#7201a8\"], [0.3333333333333333, \"#9c179e\"], [0.4444444444444444, \"#bd3786\"], [0.5555555555555556, \"#d8576b\"], [0.6666666666666666, \"#ed7953\"], [0.7777777777777778, \"#fb9f3a\"], [0.8888888888888888, \"#fdca26\"], [1.0, \"#f0f921\"]], \"type\": \"histogram2dcontour\"}], \"mesh3d\": [{\"colorbar\": {\"outlinewidth\": 0, \"ticks\": \"\"}, \"type\": \"mesh3d\"}], \"parcoords\": [{\"line\": {\"colorbar\": {\"outlinewidth\": 0, \"ticks\": \"\"}}, \"type\": \"parcoords\"}], \"pie\": [{\"automargin\": true, \"type\": \"pie\"}], \"scatter\": [{\"marker\": {\"colorbar\": {\"outlinewidth\": 0, \"ticks\": \"\"}}, \"type\": \"scatter\"}], \"scatter3d\": [{\"line\": {\"colorbar\": {\"outlinewidth\": 0, \"ticks\": \"\"}}, \"marker\": {\"colorbar\": {\"outlinewidth\": 0, \"ticks\": \"\"}}, \"type\": \"scatter3d\"}], \"scattercarpet\": [{\"marker\": {\"colorbar\": {\"outlinewidth\": 0, \"ticks\": \"\"}}, \"type\": \"scattercarpet\"}], \"scattergeo\": [{\"marker\": {\"colorbar\": {\"outlinewidth\": 0, \"ticks\": \"\"}}, \"type\": \"scattergeo\"}], \"scattergl\": [{\"marker\": {\"colorbar\": {\"outlinewidth\": 0, \"ticks\": \"\"}}, \"type\": \"scattergl\"}], \"scattermapbox\": [{\"marker\": {\"colorbar\": {\"outlinewidth\": 0, \"ticks\": \"\"}}, \"type\": \"scattermapbox\"}], \"scatterpolar\": [{\"marker\": {\"colorbar\": {\"outlinewidth\": 0, \"ticks\": \"\"}}, \"type\": \"scatterpolar\"}], \"scatterpolargl\": [{\"marker\": {\"colorbar\": {\"outlinewidth\": 0, \"ticks\": \"\"}}, \"type\": \"scatterpolargl\"}], \"scatterternary\": [{\"marker\": {\"colorbar\": {\"outlinewidth\": 0, \"ticks\": \"\"}}, \"type\": \"scatterternary\"}], \"surface\": [{\"colorbar\": {\"outlinewidth\": 0, \"ticks\": \"\"}, \"colorscale\": [[0.0, \"#0d0887\"], [0.1111111111111111, \"#46039f\"], [0.2222222222222222, \"#7201a8\"], [0.3333333333333333, \"#9c179e\"], [0.4444444444444444, \"#bd3786\"], [0.5555555555555556, \"#d8576b\"], [0.6666666666666666, \"#ed7953\"], [0.7777777777777778, \"#fb9f3a\"], [0.8888888888888888, \"#fdca26\"], [1.0, \"#f0f921\"]], \"type\": \"surface\"}], \"table\": [{\"cells\": {\"fill\": {\"color\": \"#EBF0F8\"}, \"line\": {\"color\": \"white\"}}, \"header\": {\"fill\": {\"color\": \"#C8D4E3\"}, \"line\": {\"color\": \"white\"}}, \"type\": \"table\"}]}, \"layout\": {\"annotationdefaults\": {\"arrowcolor\": \"#2a3f5f\", \"arrowhead\": 0, \"arrowwidth\": 1}, \"autotypenumbers\": \"strict\", \"coloraxis\": {\"colorbar\": {\"outlinewidth\": 0, \"ticks\": \"\"}}, \"colorscale\": {\"diverging\": [[0, \"#8e0152\"], [0.1, \"#c51b7d\"], [0.2, \"#de77ae\"], [0.3, \"#f1b6da\"], [0.4, \"#fde0ef\"], [0.5, \"#f7f7f7\"], [0.6, \"#e6f5d0\"], [0.7, \"#b8e186\"], [0.8, \"#7fbc41\"], [0.9, \"#4d9221\"], [1, \"#276419\"]], \"sequential\": [[0.0, \"#0d0887\"], [0.1111111111111111, \"#46039f\"], [0.2222222222222222, \"#7201a8\"], [0.3333333333333333, \"#9c179e\"], [0.4444444444444444, \"#bd3786\"], [0.5555555555555556, \"#d8576b\"], [0.6666666666666666, \"#ed7953\"], [0.7777777777777778, \"#fb9f3a\"], [0.8888888888888888, \"#fdca26\"], [1.0, \"#f0f921\"]], \"sequentialminus\": [[0.0, \"#0d0887\"], [0.1111111111111111, \"#46039f\"], [0.2222222222222222, \"#7201a8\"], [0.3333333333333333, \"#9c179e\"], [0.4444444444444444, \"#bd3786\"], [0.5555555555555556, \"#d8576b\"], [0.6666666666666666, \"#ed7953\"], [0.7777777777777778, \"#fb9f3a\"], [0.8888888888888888, \"#fdca26\"], [1.0, \"#f0f921\"]]}, \"colorway\": [\"#636efa\", \"#EF553B\", \"#00cc96\", \"#ab63fa\", \"#FFA15A\", \"#19d3f3\", \"#FF6692\", \"#B6E880\", \"#FF97FF\", \"#FECB52\"], \"font\": {\"color\": \"#2a3f5f\"}, \"geo\": {\"bgcolor\": \"white\", \"lakecolor\": \"white\", \"landcolor\": \"#E5ECF6\", \"showlakes\": true, \"showland\": true, \"subunitcolor\": \"white\"}, \"hoverlabel\": {\"align\": \"left\"}, \"hovermode\": \"closest\", \"mapbox\": {\"style\": \"light\"}, \"paper_bgcolor\": \"white\", \"plot_bgcolor\": \"#E5ECF6\", \"polar\": {\"angularaxis\": {\"gridcolor\": \"white\", \"linecolor\": \"white\", \"ticks\": \"\"}, \"bgcolor\": \"#E5ECF6\", \"radialaxis\": {\"gridcolor\": \"white\", \"linecolor\": \"white\", \"ticks\": \"\"}}, \"scene\": {\"xaxis\": {\"backgroundcolor\": \"#E5ECF6\", \"gridcolor\": \"white\", \"gridwidth\": 2, \"linecolor\": \"white\", \"showbackground\": true, \"ticks\": \"\", \"zerolinecolor\": \"white\"}, \"yaxis\": {\"backgroundcolor\": \"#E5ECF6\", \"gridcolor\": \"white\", \"gridwidth\": 2, \"linecolor\": \"white\", \"showbackground\": true, \"ticks\": \"\", \"zerolinecolor\": \"white\"}, \"zaxis\": {\"backgroundcolor\": \"#E5ECF6\", \"gridcolor\": \"white\", \"gridwidth\": 2, \"linecolor\": \"white\", \"showbackground\": true, \"ticks\": \"\", \"zerolinecolor\": \"white\"}}, \"shapedefaults\": {\"line\": {\"color\": \"#2a3f5f\"}}, \"ternary\": {\"aaxis\": {\"gridcolor\": \"white\", \"linecolor\": \"white\", \"ticks\": \"\"}, \"baxis\": {\"gridcolor\": \"white\", \"linecolor\": \"white\", \"ticks\": \"\"}, \"bgcolor\": \"#E5ECF6\", \"caxis\": {\"gridcolor\": \"white\", \"linecolor\": \"white\", \"ticks\": \"\"}}, \"title\": {\"x\": 0.05}, \"xaxis\": {\"automargin\": true, \"gridcolor\": \"white\", \"linecolor\": \"white\", \"ticks\": \"\", \"title\": {\"standoff\": 15}, \"zerolinecolor\": \"white\", \"zerolinewidth\": 2}, \"yaxis\": {\"automargin\": true, \"gridcolor\": \"white\", \"linecolor\": \"white\", \"ticks\": \"\", \"title\": {\"standoff\": 15}, \"zerolinecolor\": \"white\", \"zerolinewidth\": 2}}}, \"title\": {\"font\": {\"color\": \"grey\", \"size\": 20}, \"text\": \"Precio promedio de alquileres  - A\\u00f1os 2018 y 2019\", \"x\": 0.5, \"y\": 0.9}, \"xaxis\": {\"anchor\": \"y\", \"domain\": [0.0, 1.0], \"title\": {\"text\": \"Barrio\"}}, \"yaxis\": {\"anchor\": \"x\", \"domain\": [0.0, 1.0], \"title\": {\"text\": \"Precio Promedio\"}}},                        {\"responsive\": true}                    ).then(function(){\n",
              "                            \n",
              "var gd = document.getElementById('9bac4a39-24f5-47d2-afe3-240c1a309105');\n",
              "var x = new MutationObserver(function (mutations, observer) {{\n",
              "        var display = window.getComputedStyle(gd).display;\n",
              "        if (!display || display === 'none') {{\n",
              "            console.log([gd, 'removed!']);\n",
              "            Plotly.purge(gd);\n",
              "            observer.disconnect();\n",
              "        }}\n",
              "}});\n",
              "\n",
              "// Listen for the removal of the full notebook cells\n",
              "var notebookContainer = gd.closest('#notebook-container');\n",
              "if (notebookContainer) {{\n",
              "    x.observe(notebookContainer, {childList: true});\n",
              "}}\n",
              "\n",
              "// Listen for the clearing of the current output cell\n",
              "var outputEl = gd.closest('.output');\n",
              "if (outputEl) {{\n",
              "    x.observe(outputEl, {childList: true});\n",
              "}}\n",
              "\n",
              "                        })                };                            </script>        </div>\n",
              "</body>\n",
              "</html>"
            ]
          },
          "metadata": {
            "tags": []
          }
        }
      ]
    },
    {
      "cell_type": "code",
      "metadata": {
        "id": "HrJ7_7zaecCq"
      },
      "source": [
        "c = precio_alq.groupby(['comuna','anio'], as_index=False)['precio_prom'].mean().sort_values('precio_prom', ascending=False)\n",
        "c= c.loc[(c.precio_prom >=0),:].sort_values(by='precio_prom',ascending=True)   ## ACA TENGO FILTRADO POR AÑO Y SIN VALORES NULOS \n",
        "c = c.reset_index(drop=True)\n",
        "c = c.rename(columns={'anio':'año'})  ## ASI CAMBIO EL NOMBRE DE LA COLUMNA\n",
        "c"
      ],
      "execution_count": null,
      "outputs": []
    },
    {
      "cell_type": "code",
      "metadata": {
        "id": "GTrQyOTBhfRv"
      },
      "source": [
        "d = c.loc[(c['año'] .isin ([2018,2019])),:].sort_values(by='comuna',ascending=False)\n",
        "d.reset_index(drop=True)\n",
        "d.head()"
      ],
      "execution_count": null,
      "outputs": []
    },
    {
      "cell_type": "code",
      "metadata": {
        "id": "Q4ZMeNIk8yx3"
      },
      "source": [
        "d.loc[d.comuna == 8]"
      ],
      "execution_count": null,
      "outputs": []
    },
    {
      "cell_type": "code",
      "metadata": {
        "id": "Rbb-6TI_g4K_",
        "colab": {
          "base_uri": "https://localhost:8080/",
          "height": 541
        },
        "outputId": "cc89c763-3bc7-4312-b6a8-ab4ee4eed982"
      },
      "source": [
        "fig3 = px.bar(data_frame= d,\n",
        "                  x = d['comuna'],\n",
        "                  y = d['precio_prom'],\n",
        "                  color = d['año'], \n",
        "                  title = 'Precio promedio de alquileres por Comuna - Años 2018 y 2019',\n",
        "                  labels = {'precio_prom' : 'Precio Promedio' , 'comuna' : 'Comuna'}\n",
        "                  )\n",
        "fig3.update_layout(\n",
        "    showlegend = False,\n",
        "    title = {\"x\":0.5,#centrar\n",
        "             \"y\":0.9,#bajar\n",
        "             \"font\":{\"size\":20, \"color\": \"grey\"}\n",
        "             }  \n",
        ")\n",
        "fig3"
      ],
      "execution_count": 16,
      "outputs": [
        {
          "output_type": "display_data",
          "data": {
            "text/html": [
              "<html>\n",
              "<head><meta charset=\"utf-8\" /></head>\n",
              "<body>\n",
              "    <div>            <script src=\"https://cdnjs.cloudflare.com/ajax/libs/mathjax/2.7.5/MathJax.js?config=TeX-AMS-MML_SVG\"></script><script type=\"text/javascript\">if (window.MathJax) {MathJax.Hub.Config({SVG: {font: \"STIX-Web\"}});}</script>                <script type=\"text/javascript\">window.PlotlyConfig = {MathJaxConfig: 'local'};</script>\n",
              "        <script src=\"https://cdn.plot.ly/plotly-latest.min.js\"></script>                <div id=\"cfdf8388-b301-4e8e-a80d-e43baaf41497\" class=\"plotly-graph-div\" style=\"height:525px; width:100%;\"></div>            <script type=\"text/javascript\">                                    window.PLOTLYENV=window.PLOTLYENV || {};                                    if (document.getElementById(\"cfdf8388-b301-4e8e-a80d-e43baaf41497\")) {                    Plotly.newPlot(                        \"cfdf8388-b301-4e8e-a80d-e43baaf41497\",                        [{\"alignmentgroup\": \"True\", \"hovertemplate\": \"Comuna=%{x}<br>Precio Promedio=%{y}<br>a\\u00f1o=%{marker.color}<extra></extra>\", \"legendgroup\": \"\", \"marker\": {\"color\": [2019, 2018, 2018, 2019, 2018, 2019, 2018, 2019, 2018, 2019, 2018, 2018, 2019, 2018, 2018, 2019, 2019, 2018, 2018, 2018, 2019, 2018, 2019, 2019, 2018], \"coloraxis\": \"coloraxis\"}, \"name\": \"\", \"offsetgroup\": \"\", \"orientation\": \"v\", \"showlegend\": false, \"textposition\": \"auto\", \"type\": \"bar\", \"x\": [15, 15, 14, 14, 13, 13, 12, 12, 11, 11, 10, 9, 7, 7, 6, 6, 5, 5, 4, 3, 3, 2, 2, 1, 1], \"xaxis\": \"x\", \"y\": [14395.42857142857, 12747.526315789473, 16655.5, 21100.1875, 14854.720930232557, 18670.451612903227, 13973.41935483871, 18786.714285714286, 10879.916666666666, 13078.555555555555, 9008.25, 8232.833333333334, 14567.916666666666, 11781.851851851852, 13871.875, 17232.875, 16106.916666666666, 13116.454545454546, 10216.0, 11887.5, 15061.153846153846, 15475.791666666666, 19346.9375, 15377.727272727272, 12418.454545454546], \"yaxis\": \"y\"}],                        {\"barmode\": \"relative\", \"coloraxis\": {\"colorbar\": {\"title\": {\"text\": \"a\\u00f1o\"}}, \"colorscale\": [[0.0, \"#0d0887\"], [0.1111111111111111, \"#46039f\"], [0.2222222222222222, \"#7201a8\"], [0.3333333333333333, \"#9c179e\"], [0.4444444444444444, \"#bd3786\"], [0.5555555555555556, \"#d8576b\"], [0.6666666666666666, \"#ed7953\"], [0.7777777777777778, \"#fb9f3a\"], [0.8888888888888888, \"#fdca26\"], [1.0, \"#f0f921\"]]}, \"legend\": {\"tracegroupgap\": 0}, \"showlegend\": false, \"template\": {\"data\": {\"bar\": [{\"error_x\": {\"color\": \"#2a3f5f\"}, \"error_y\": {\"color\": \"#2a3f5f\"}, \"marker\": {\"line\": {\"color\": \"#E5ECF6\", \"width\": 0.5}}, \"type\": \"bar\"}], \"barpolar\": [{\"marker\": {\"line\": {\"color\": \"#E5ECF6\", \"width\": 0.5}}, \"type\": \"barpolar\"}], \"carpet\": [{\"aaxis\": {\"endlinecolor\": \"#2a3f5f\", \"gridcolor\": \"white\", \"linecolor\": \"white\", \"minorgridcolor\": \"white\", \"startlinecolor\": \"#2a3f5f\"}, \"baxis\": {\"endlinecolor\": \"#2a3f5f\", \"gridcolor\": \"white\", \"linecolor\": \"white\", \"minorgridcolor\": \"white\", \"startlinecolor\": \"#2a3f5f\"}, \"type\": \"carpet\"}], \"choropleth\": [{\"colorbar\": {\"outlinewidth\": 0, \"ticks\": \"\"}, \"type\": \"choropleth\"}], \"contour\": [{\"colorbar\": {\"outlinewidth\": 0, \"ticks\": \"\"}, \"colorscale\": [[0.0, \"#0d0887\"], [0.1111111111111111, \"#46039f\"], [0.2222222222222222, \"#7201a8\"], [0.3333333333333333, \"#9c179e\"], [0.4444444444444444, \"#bd3786\"], [0.5555555555555556, \"#d8576b\"], [0.6666666666666666, \"#ed7953\"], [0.7777777777777778, \"#fb9f3a\"], [0.8888888888888888, \"#fdca26\"], [1.0, \"#f0f921\"]], \"type\": \"contour\"}], \"contourcarpet\": [{\"colorbar\": {\"outlinewidth\": 0, \"ticks\": \"\"}, \"type\": \"contourcarpet\"}], \"heatmap\": [{\"colorbar\": {\"outlinewidth\": 0, \"ticks\": \"\"}, \"colorscale\": [[0.0, \"#0d0887\"], [0.1111111111111111, \"#46039f\"], [0.2222222222222222, \"#7201a8\"], [0.3333333333333333, \"#9c179e\"], [0.4444444444444444, \"#bd3786\"], [0.5555555555555556, \"#d8576b\"], [0.6666666666666666, \"#ed7953\"], [0.7777777777777778, \"#fb9f3a\"], [0.8888888888888888, \"#fdca26\"], [1.0, \"#f0f921\"]], \"type\": \"heatmap\"}], \"heatmapgl\": [{\"colorbar\": {\"outlinewidth\": 0, \"ticks\": \"\"}, \"colorscale\": [[0.0, \"#0d0887\"], [0.1111111111111111, \"#46039f\"], [0.2222222222222222, \"#7201a8\"], [0.3333333333333333, \"#9c179e\"], [0.4444444444444444, \"#bd3786\"], [0.5555555555555556, \"#d8576b\"], [0.6666666666666666, \"#ed7953\"], [0.7777777777777778, \"#fb9f3a\"], [0.8888888888888888, \"#fdca26\"], [1.0, \"#f0f921\"]], \"type\": \"heatmapgl\"}], \"histogram\": [{\"marker\": {\"colorbar\": {\"outlinewidth\": 0, \"ticks\": \"\"}}, \"type\": \"histogram\"}], \"histogram2d\": [{\"colorbar\": {\"outlinewidth\": 0, \"ticks\": \"\"}, \"colorscale\": [[0.0, \"#0d0887\"], [0.1111111111111111, \"#46039f\"], [0.2222222222222222, \"#7201a8\"], [0.3333333333333333, \"#9c179e\"], [0.4444444444444444, \"#bd3786\"], [0.5555555555555556, \"#d8576b\"], [0.6666666666666666, \"#ed7953\"], [0.7777777777777778, \"#fb9f3a\"], [0.8888888888888888, \"#fdca26\"], [1.0, \"#f0f921\"]], \"type\": \"histogram2d\"}], \"histogram2dcontour\": [{\"colorbar\": {\"outlinewidth\": 0, \"ticks\": \"\"}, \"colorscale\": [[0.0, \"#0d0887\"], [0.1111111111111111, \"#46039f\"], [0.2222222222222222, \"#7201a8\"], [0.3333333333333333, \"#9c179e\"], [0.4444444444444444, \"#bd3786\"], [0.5555555555555556, \"#d8576b\"], [0.6666666666666666, \"#ed7953\"], [0.7777777777777778, \"#fb9f3a\"], [0.8888888888888888, \"#fdca26\"], [1.0, \"#f0f921\"]], \"type\": \"histogram2dcontour\"}], \"mesh3d\": [{\"colorbar\": {\"outlinewidth\": 0, \"ticks\": \"\"}, \"type\": \"mesh3d\"}], \"parcoords\": [{\"line\": {\"colorbar\": {\"outlinewidth\": 0, \"ticks\": \"\"}}, \"type\": \"parcoords\"}], \"pie\": [{\"automargin\": true, \"type\": \"pie\"}], \"scatter\": [{\"marker\": {\"colorbar\": {\"outlinewidth\": 0, \"ticks\": \"\"}}, \"type\": \"scatter\"}], \"scatter3d\": [{\"line\": {\"colorbar\": {\"outlinewidth\": 0, \"ticks\": \"\"}}, \"marker\": {\"colorbar\": {\"outlinewidth\": 0, \"ticks\": \"\"}}, \"type\": \"scatter3d\"}], \"scattercarpet\": [{\"marker\": {\"colorbar\": {\"outlinewidth\": 0, \"ticks\": \"\"}}, \"type\": \"scattercarpet\"}], \"scattergeo\": [{\"marker\": {\"colorbar\": {\"outlinewidth\": 0, \"ticks\": \"\"}}, \"type\": \"scattergeo\"}], \"scattergl\": [{\"marker\": {\"colorbar\": {\"outlinewidth\": 0, \"ticks\": \"\"}}, \"type\": \"scattergl\"}], \"scattermapbox\": [{\"marker\": {\"colorbar\": {\"outlinewidth\": 0, \"ticks\": \"\"}}, \"type\": \"scattermapbox\"}], \"scatterpolar\": [{\"marker\": {\"colorbar\": {\"outlinewidth\": 0, \"ticks\": \"\"}}, \"type\": \"scatterpolar\"}], \"scatterpolargl\": [{\"marker\": {\"colorbar\": {\"outlinewidth\": 0, \"ticks\": \"\"}}, \"type\": \"scatterpolargl\"}], \"scatterternary\": [{\"marker\": {\"colorbar\": {\"outlinewidth\": 0, \"ticks\": \"\"}}, \"type\": \"scatterternary\"}], \"surface\": [{\"colorbar\": {\"outlinewidth\": 0, \"ticks\": \"\"}, \"colorscale\": [[0.0, \"#0d0887\"], [0.1111111111111111, \"#46039f\"], [0.2222222222222222, \"#7201a8\"], [0.3333333333333333, \"#9c179e\"], [0.4444444444444444, \"#bd3786\"], [0.5555555555555556, \"#d8576b\"], [0.6666666666666666, \"#ed7953\"], [0.7777777777777778, \"#fb9f3a\"], [0.8888888888888888, \"#fdca26\"], [1.0, \"#f0f921\"]], \"type\": \"surface\"}], \"table\": [{\"cells\": {\"fill\": {\"color\": \"#EBF0F8\"}, \"line\": {\"color\": \"white\"}}, \"header\": {\"fill\": {\"color\": \"#C8D4E3\"}, \"line\": {\"color\": \"white\"}}, \"type\": \"table\"}]}, \"layout\": {\"annotationdefaults\": {\"arrowcolor\": \"#2a3f5f\", \"arrowhead\": 0, \"arrowwidth\": 1}, \"autotypenumbers\": \"strict\", \"coloraxis\": {\"colorbar\": {\"outlinewidth\": 0, \"ticks\": \"\"}}, \"colorscale\": {\"diverging\": [[0, \"#8e0152\"], [0.1, \"#c51b7d\"], [0.2, \"#de77ae\"], [0.3, \"#f1b6da\"], [0.4, \"#fde0ef\"], [0.5, \"#f7f7f7\"], [0.6, \"#e6f5d0\"], [0.7, \"#b8e186\"], [0.8, \"#7fbc41\"], [0.9, \"#4d9221\"], [1, \"#276419\"]], \"sequential\": [[0.0, \"#0d0887\"], [0.1111111111111111, \"#46039f\"], [0.2222222222222222, \"#7201a8\"], [0.3333333333333333, \"#9c179e\"], [0.4444444444444444, \"#bd3786\"], [0.5555555555555556, \"#d8576b\"], [0.6666666666666666, \"#ed7953\"], [0.7777777777777778, \"#fb9f3a\"], [0.8888888888888888, \"#fdca26\"], [1.0, \"#f0f921\"]], \"sequentialminus\": [[0.0, \"#0d0887\"], [0.1111111111111111, \"#46039f\"], [0.2222222222222222, \"#7201a8\"], [0.3333333333333333, \"#9c179e\"], [0.4444444444444444, \"#bd3786\"], [0.5555555555555556, \"#d8576b\"], [0.6666666666666666, \"#ed7953\"], [0.7777777777777778, \"#fb9f3a\"], [0.8888888888888888, \"#fdca26\"], [1.0, \"#f0f921\"]]}, \"colorway\": [\"#636efa\", \"#EF553B\", \"#00cc96\", \"#ab63fa\", \"#FFA15A\", \"#19d3f3\", \"#FF6692\", \"#B6E880\", \"#FF97FF\", \"#FECB52\"], \"font\": {\"color\": \"#2a3f5f\"}, \"geo\": {\"bgcolor\": \"white\", \"lakecolor\": \"white\", \"landcolor\": \"#E5ECF6\", \"showlakes\": true, \"showland\": true, \"subunitcolor\": \"white\"}, \"hoverlabel\": {\"align\": \"left\"}, \"hovermode\": \"closest\", \"mapbox\": {\"style\": \"light\"}, \"paper_bgcolor\": \"white\", \"plot_bgcolor\": \"#E5ECF6\", \"polar\": {\"angularaxis\": {\"gridcolor\": \"white\", \"linecolor\": \"white\", \"ticks\": \"\"}, \"bgcolor\": \"#E5ECF6\", \"radialaxis\": {\"gridcolor\": \"white\", \"linecolor\": \"white\", \"ticks\": \"\"}}, \"scene\": {\"xaxis\": {\"backgroundcolor\": \"#E5ECF6\", \"gridcolor\": \"white\", \"gridwidth\": 2, \"linecolor\": \"white\", \"showbackground\": true, \"ticks\": \"\", \"zerolinecolor\": \"white\"}, \"yaxis\": {\"backgroundcolor\": \"#E5ECF6\", \"gridcolor\": \"white\", \"gridwidth\": 2, \"linecolor\": \"white\", \"showbackground\": true, \"ticks\": \"\", \"zerolinecolor\": \"white\"}, \"zaxis\": {\"backgroundcolor\": \"#E5ECF6\", \"gridcolor\": \"white\", \"gridwidth\": 2, \"linecolor\": \"white\", \"showbackground\": true, \"ticks\": \"\", \"zerolinecolor\": \"white\"}}, \"shapedefaults\": {\"line\": {\"color\": \"#2a3f5f\"}}, \"ternary\": {\"aaxis\": {\"gridcolor\": \"white\", \"linecolor\": \"white\", \"ticks\": \"\"}, \"baxis\": {\"gridcolor\": \"white\", \"linecolor\": \"white\", \"ticks\": \"\"}, \"bgcolor\": \"#E5ECF6\", \"caxis\": {\"gridcolor\": \"white\", \"linecolor\": \"white\", \"ticks\": \"\"}}, \"title\": {\"x\": 0.05}, \"xaxis\": {\"automargin\": true, \"gridcolor\": \"white\", \"linecolor\": \"white\", \"ticks\": \"\", \"title\": {\"standoff\": 15}, \"zerolinecolor\": \"white\", \"zerolinewidth\": 2}, \"yaxis\": {\"automargin\": true, \"gridcolor\": \"white\", \"linecolor\": \"white\", \"ticks\": \"\", \"title\": {\"standoff\": 15}, \"zerolinecolor\": \"white\", \"zerolinewidth\": 2}}}, \"title\": {\"font\": {\"color\": \"grey\", \"size\": 20}, \"text\": \"Precio promedio de alquileres por Comuna - A\\u00f1os 2018 y 2019\", \"x\": 0.5, \"y\": 0.9}, \"xaxis\": {\"anchor\": \"y\", \"domain\": [0.0, 1.0], \"title\": {\"text\": \"Comuna\"}}, \"yaxis\": {\"anchor\": \"x\", \"domain\": [0.0, 1.0], \"title\": {\"text\": \"Precio Promedio\"}}},                        {\"responsive\": true}                    ).then(function(){\n",
              "                            \n",
              "var gd = document.getElementById('cfdf8388-b301-4e8e-a80d-e43baaf41497');\n",
              "var x = new MutationObserver(function (mutations, observer) {{\n",
              "        var display = window.getComputedStyle(gd).display;\n",
              "        if (!display || display === 'none') {{\n",
              "            console.log([gd, 'removed!']);\n",
              "            Plotly.purge(gd);\n",
              "            observer.disconnect();\n",
              "        }}\n",
              "}});\n",
              "\n",
              "// Listen for the removal of the full notebook cells\n",
              "var notebookContainer = gd.closest('#notebook-container');\n",
              "if (notebookContainer) {{\n",
              "    x.observe(notebookContainer, {childList: true});\n",
              "}}\n",
              "\n",
              "// Listen for the clearing of the current output cell\n",
              "var outputEl = gd.closest('.output');\n",
              "if (outputEl) {{\n",
              "    x.observe(outputEl, {childList: true});\n",
              "}}\n",
              "\n",
              "                        })                };                            </script>        </div>\n",
              "</body>\n",
              "</html>"
            ]
          },
          "metadata": {
            "tags": []
          }
        }
      ]
    },
    {
      "cell_type": "markdown",
      "metadata": {
        "id": "Du1yuunew1aI"
      },
      "source": [
        "# VENTAS EN **CABA**"
      ]
    },
    {
      "cell_type": "code",
      "metadata": {
        "id": "ENUiKdiYlKx-"
      },
      "source": [
        "precio_vta.head(2)"
      ],
      "execution_count": null,
      "outputs": []
    },
    {
      "cell_type": "code",
      "metadata": {
        "id": "Ymydm3_olKvq"
      },
      "source": [
        "precio_vta.info()  ## TAMBIEN TENGO MUCHOS VALORES NULOS"
      ],
      "execution_count": null,
      "outputs": []
    },
    {
      "cell_type": "code",
      "metadata": {
        "id": "b429NwQSlKsf"
      },
      "source": [
        "precio_vta.isna().sum()    ## TAMBIEN TENGO MUCHOS VALORES NULOS  // SE DECIDE ELIMINARLOS SABIENDO QUE SE DEBILITA MUCHO EL DF"
      ],
      "execution_count": null,
      "outputs": []
    },
    {
      "cell_type": "code",
      "metadata": {
        "id": "P6DDpTIllKm6"
      },
      "source": [
        "for barrio in precio_alq.barrio.unique():             ## PATERL\n",
        "  if barrio not in precio_vta.barrio.unique():\n",
        "    print(barrio)"
      ],
      "execution_count": null,
      "outputs": []
    },
    {
      "cell_type": "code",
      "metadata": {
        "id": "5aDl3XstnV1Y"
      },
      "source": [
        "for barrio in precio_vta.barrio.unique():\n",
        "  if barrio not in precio_alq.barrio.unique():    \n",
        "    print(barrio)                                     ## TENGO QUE ARREGLAR ESTE NOMBRE DE BARRIO"
      ],
      "execution_count": null,
      "outputs": []
    },
    {
      "cell_type": "code",
      "metadata": {
        "id": "hUhDmv7wlKjy"
      },
      "source": [
        "precio_vta[\"barrio\"] = precio_vta[\"barrio\"].replace({'PATERL': \"PATERNAL\"})   ## ARREGLADO"
      ],
      "execution_count": 19,
      "outputs": []
    },
    {
      "cell_type": "code",
      "metadata": {
        "id": "_Y2Iwm2e3_8Z"
      },
      "source": [
        "pd.options.display.float_format = '{:.2f}'.format"
      ],
      "execution_count": 20,
      "outputs": []
    },
    {
      "cell_type": "code",
      "metadata": {
        "id": "V7ccG8rRlKc2"
      },
      "source": [
        "f = precio_vta.loc[precio_vta.precio_prom>=0]  ## FILTRO PARA ELIMINAR VALORES NULOS\n",
        "f = f.reset_index(drop=True)\n",
        "f.head()                             "
      ],
      "execution_count": null,
      "outputs": []
    },
    {
      "cell_type": "code",
      "metadata": {
        "id": "ukgg34mSoL-q"
      },
      "source": [
        "f.año.unique()"
      ],
      "execution_count": null,
      "outputs": []
    },
    {
      "cell_type": "code",
      "metadata": {
        "id": "J3gB-aL7oL8O"
      },
      "source": [
        "f.ambientes.unique()"
      ],
      "execution_count": null,
      "outputs": []
    },
    {
      "cell_type": "code",
      "metadata": {
        "id": "csZATsjkpFLQ"
      },
      "source": [
        "f['ambientes'] = f['ambientes'].replace(\n",
        "    {'2 ambientes': \"2\", \n",
        "     '3 ambientes': \"3\"}) "
      ],
      "execution_count": 23,
      "outputs": []
    },
    {
      "cell_type": "code",
      "metadata": {
        "id": "kxYi1DufoL5f"
      },
      "source": [
        "f.estado.unique()      ## HAY QUE ARREGLAR TAMBIEN \"A estrer\""
      ],
      "execution_count": null,
      "outputs": []
    },
    {
      "cell_type": "code",
      "metadata": {
        "id": "cAZBzN4zoL3L"
      },
      "source": [
        "f[\"estado\"] = f[\"estado\"].replace({'A estrer': \"Nuevo\"}) "
      ],
      "execution_count": 24,
      "outputs": []
    },
    {
      "cell_type": "code",
      "metadata": {
        "id": "JcEecUqhoLxJ"
      },
      "source": [
        "f.estado.unique()       ## ARREGLADO"
      ],
      "execution_count": null,
      "outputs": []
    },
    {
      "cell_type": "code",
      "metadata": {
        "id": "sReieY6wo-A0"
      },
      "source": [
        "f.info()"
      ],
      "execution_count": null,
      "outputs": []
    },
    {
      "cell_type": "code",
      "metadata": {
        "id": "JVgD8WtZo93j"
      },
      "source": [
        "f.tail()"
      ],
      "execution_count": null,
      "outputs": []
    },
    {
      "cell_type": "code",
      "metadata": {
        "id": "61BM1xPoxGT2"
      },
      "source": [
        "f.precio_prom.sort_values(ascending=False)"
      ],
      "execution_count": null,
      "outputs": []
    },
    {
      "cell_type": "code",
      "metadata": {
        "id": "x-Jrn8W-8svZ"
      },
      "source": [
        "f.head()"
      ],
      "execution_count": null,
      "outputs": []
    },
    {
      "cell_type": "code",
      "metadata": {
        "id": "iHK1NulO9QSt"
      },
      "source": [
        "l = f.groupby(['año', 'barrio', 'ambientes'], as_index=False)['precio_prom'].mean().sort_values(by='precio_prom', ascending=False)\n",
        "l = l.reset_index(drop=True)\n",
        "l.head(2)"
      ],
      "execution_count": null,
      "outputs": []
    },
    {
      "cell_type": "code",
      "metadata": {
        "id": "2Lz7hMIsq3MS"
      },
      "source": [
        "h = f.groupby(['año', 'barrio'], as_index=False)['precio_prom'].mean().sort_values(by='precio_prom', ascending=False)\n",
        "h = h.reset_index(drop=True)\n",
        "h.head()"
      ],
      "execution_count": null,
      "outputs": []
    },
    {
      "cell_type": "code",
      "metadata": {
        "colab": {
          "base_uri": "https://localhost:8080/",
          "height": 541
        },
        "id": "Mp3phjMa_dX6",
        "outputId": "ad0bf39b-50e9-434d-92f7-10e52be692ae"
      },
      "source": [
        "fig4=px.treemap(data_frame= h.loc[h.año == 2019],\n",
        "          path=[px.Constant('barrio'), 'barrio'],\n",
        "           values='precio_prom',\n",
        "           color='precio_prom',\n",
        "           title = 'Precio promedio de venta por m2 - Año 2019')   \n",
        "fig4.update_layout(\n",
        "    showlegend = False,\n",
        "    title = {\"x\":0.5,#centrar\n",
        "             \"y\":0.9,#bajar\n",
        "             \"font\":{\"size\":20, \"color\": \"grey\"}\n",
        "             }  \n",
        ")\n",
        "fig4"
      ],
      "execution_count": 27,
      "outputs": [
        {
          "output_type": "display_data",
          "data": {
            "text/html": [
              "<html>\n",
              "<head><meta charset=\"utf-8\" /></head>\n",
              "<body>\n",
              "    <div>            <script src=\"https://cdnjs.cloudflare.com/ajax/libs/mathjax/2.7.5/MathJax.js?config=TeX-AMS-MML_SVG\"></script><script type=\"text/javascript\">if (window.MathJax) {MathJax.Hub.Config({SVG: {font: \"STIX-Web\"}});}</script>                <script type=\"text/javascript\">window.PlotlyConfig = {MathJaxConfig: 'local'};</script>\n",
              "        <script src=\"https://cdn.plot.ly/plotly-latest.min.js\"></script>                <div id=\"9e409000-39c9-4ea4-afcd-323522246618\" class=\"plotly-graph-div\" style=\"height:525px; width:100%;\"></div>            <script type=\"text/javascript\">                                    window.PLOTLYENV=window.PLOTLYENV || {};                                    if (document.getElementById(\"9e409000-39c9-4ea4-afcd-323522246618\")) {                    Plotly.newPlot(                        \"9e409000-39c9-4ea4-afcd-323522246618\",                        [{\"branchvalues\": \"total\", \"customdata\": [[2864.25], [2425.0], [2466.25], [3771.75], [1884.5], [2513.0], [3072.5], [2811.3333333333335], [3373.25], [3512.25], [1803.5], [2571.875], [2082.0], [2494.0], [2709.6], [2244.25], [2402.3333333333335], [3617.75], [3840.75], [1899.666666666667], [2574.0], [2060.25], [6121.0], [3704.75], [3150.75], [3101.428571428571], [2339.5714285714284], [2453.8], [2367.0], [2194.75], [2960.625], [2621.3333333333335], [2859.25], [2339.6666666666665], [1289.0], [2507.8333333333335], [3298.0], [2842.6666666666665], [2461.6666666666665], [3335.875], [2994.7136863838455]], \"domain\": {\"x\": [0.0, 1.0], \"y\": [0.0, 1.0]}, \"hovertemplate\": \"labels=%{label}<br>precio_prom_sum=%{value}<br>parent=%{parent}<br>id=%{id}<br>precio_prom=%{color}<extra></extra>\", \"ids\": [\"barrio/ALMAGRO\", \"barrio/BALVANERA\", \"barrio/BARRACAS\", \"barrio/BELGRANO\", \"barrio/BOCA\", \"barrio/BOEDO\", \"barrio/CABALLITO\", \"barrio/CHACARITA\", \"barrio/COGHLAN\", \"barrio/COLEGIALES\", \"barrio/CONSTITUCION\", \"barrio/FLORES\", \"barrio/FLORESTA\", \"barrio/LINIERS\", \"barrio/MATADEROS\", \"barrio/MONSERRAT\", \"barrio/MONTE CASTRO\", \"barrio/NU\\u00d1EZ\", \"barrio/PALERMO\", \"barrio/PARQUE AVELLANEDA\", \"barrio/PARQUE CHACABUCO\", \"barrio/PARQUE PATRICIOS\", \"barrio/PUERTO MADERO\", \"barrio/RECOLETA\", \"barrio/RETIRO\", \"barrio/SAAVEDRA\", \"barrio/SAN CRISTOBAL\", \"barrio/SAN NICOLAS\", \"barrio/SAN TELMO\", \"barrio/VELEZ SARSFIELD\", \"barrio/VILLA CRESPO\", \"barrio/VILLA DEL PARQUE\", \"barrio/VILLA DEVOTO\", \"barrio/VILLA GRAL. MITRE\", \"barrio/VILLA LUGANO\", \"barrio/VILLA LURO\", \"barrio/VILLA ORTUZAR\", \"barrio/VILLA PUEYRREDON\", \"barrio/VILLA SANTA RITA\", \"barrio/VILLA URQUIZA\", \"barrio\"], \"labels\": [\"ALMAGRO\", \"BALVANERA\", \"BARRACAS\", \"BELGRANO\", \"BOCA\", \"BOEDO\", \"CABALLITO\", \"CHACARITA\", \"COGHLAN\", \"COLEGIALES\", \"CONSTITUCION\", \"FLORES\", \"FLORESTA\", \"LINIERS\", \"MATADEROS\", \"MONSERRAT\", \"MONTE CASTRO\", \"NU\\u00d1EZ\", \"PALERMO\", \"PARQUE AVELLANEDA\", \"PARQUE CHACABUCO\", \"PARQUE PATRICIOS\", \"PUERTO MADERO\", \"RECOLETA\", \"RETIRO\", \"SAAVEDRA\", \"SAN CRISTOBAL\", \"SAN NICOLAS\", \"SAN TELMO\", \"VELEZ SARSFIELD\", \"VILLA CRESPO\", \"VILLA DEL PARQUE\", \"VILLA DEVOTO\", \"VILLA GRAL. MITRE\", \"VILLA LUGANO\", \"VILLA LURO\", \"VILLA ORTUZAR\", \"VILLA PUEYRREDON\", \"VILLA SANTA RITA\", \"VILLA URQUIZA\", \"barrio\"], \"marker\": {\"coloraxis\": \"coloraxis\", \"colors\": [2864.25, 2425.0, 2466.25, 3771.75, 1884.5, 2513.0, 3072.5, 2811.3333333333335, 3373.25, 3512.25, 1803.5, 2571.875, 2082.0, 2494.0, 2709.6, 2244.25, 2402.3333333333335, 3617.75, 3840.75, 1899.666666666667, 2574.0, 2060.25, 6121.0, 3704.75, 3150.75, 3101.428571428571, 2339.5714285714284, 2453.8, 2367.0, 2194.75, 2960.625, 2621.3333333333335, 2859.25, 2339.6666666666665, 1289.0, 2507.8333333333335, 3298.0, 2842.6666666666665, 2461.6666666666665, 3335.875, 2994.7136863838455]}, \"name\": \"\", \"parents\": [\"barrio\", \"barrio\", \"barrio\", \"barrio\", \"barrio\", \"barrio\", \"barrio\", \"barrio\", \"barrio\", \"barrio\", \"barrio\", \"barrio\", \"barrio\", \"barrio\", \"barrio\", \"barrio\", \"barrio\", \"barrio\", \"barrio\", \"barrio\", \"barrio\", \"barrio\", \"barrio\", \"barrio\", \"barrio\", \"barrio\", \"barrio\", \"barrio\", \"barrio\", \"barrio\", \"barrio\", \"barrio\", \"barrio\", \"barrio\", \"barrio\", \"barrio\", \"barrio\", \"barrio\", \"barrio\", \"barrio\", \"\"], \"type\": \"treemap\", \"values\": [2864.25, 2425.0, 2466.25, 3771.75, 1884.5, 2513.0, 3072.5, 2811.3333333333335, 3373.25, 3512.25, 1803.5, 2571.875, 2082.0, 2494.0, 2709.6, 2244.25, 2402.3333333333335, 3617.75, 3840.75, 1899.6666666666667, 2574.0, 2060.25, 6121.0, 3704.75, 3150.75, 3101.4285714285716, 2339.5714285714284, 2453.8, 2367.0, 2194.75, 2960.625, 2621.3333333333335, 2859.25, 2339.6666666666665, 1289.0, 2507.8333333333335, 3298.0, 2842.6666666666665, 2461.6666666666665, 3335.875, 110943.02500000001]}],                        {\"coloraxis\": {\"colorbar\": {\"title\": {\"text\": \"precio_prom\"}}, \"colorscale\": [[0.0, \"#0d0887\"], [0.1111111111111111, \"#46039f\"], [0.2222222222222222, \"#7201a8\"], [0.3333333333333333, \"#9c179e\"], [0.4444444444444444, \"#bd3786\"], [0.5555555555555556, \"#d8576b\"], [0.6666666666666666, \"#ed7953\"], [0.7777777777777778, \"#fb9f3a\"], [0.8888888888888888, \"#fdca26\"], [1.0, \"#f0f921\"]]}, \"legend\": {\"tracegroupgap\": 0}, \"showlegend\": false, \"template\": {\"data\": {\"bar\": [{\"error_x\": {\"color\": \"#2a3f5f\"}, \"error_y\": {\"color\": \"#2a3f5f\"}, \"marker\": {\"line\": {\"color\": \"#E5ECF6\", \"width\": 0.5}}, \"type\": \"bar\"}], \"barpolar\": [{\"marker\": {\"line\": {\"color\": \"#E5ECF6\", \"width\": 0.5}}, \"type\": \"barpolar\"}], \"carpet\": [{\"aaxis\": {\"endlinecolor\": \"#2a3f5f\", \"gridcolor\": \"white\", \"linecolor\": \"white\", \"minorgridcolor\": \"white\", \"startlinecolor\": \"#2a3f5f\"}, \"baxis\": {\"endlinecolor\": \"#2a3f5f\", \"gridcolor\": \"white\", \"linecolor\": \"white\", \"minorgridcolor\": \"white\", \"startlinecolor\": \"#2a3f5f\"}, \"type\": \"carpet\"}], \"choropleth\": [{\"colorbar\": {\"outlinewidth\": 0, \"ticks\": \"\"}, \"type\": \"choropleth\"}], \"contour\": [{\"colorbar\": {\"outlinewidth\": 0, \"ticks\": \"\"}, \"colorscale\": [[0.0, \"#0d0887\"], [0.1111111111111111, \"#46039f\"], [0.2222222222222222, \"#7201a8\"], [0.3333333333333333, \"#9c179e\"], [0.4444444444444444, \"#bd3786\"], [0.5555555555555556, \"#d8576b\"], [0.6666666666666666, \"#ed7953\"], [0.7777777777777778, \"#fb9f3a\"], [0.8888888888888888, \"#fdca26\"], [1.0, \"#f0f921\"]], \"type\": \"contour\"}], \"contourcarpet\": [{\"colorbar\": {\"outlinewidth\": 0, \"ticks\": \"\"}, \"type\": \"contourcarpet\"}], \"heatmap\": [{\"colorbar\": {\"outlinewidth\": 0, \"ticks\": \"\"}, \"colorscale\": [[0.0, \"#0d0887\"], [0.1111111111111111, \"#46039f\"], [0.2222222222222222, \"#7201a8\"], [0.3333333333333333, \"#9c179e\"], [0.4444444444444444, \"#bd3786\"], [0.5555555555555556, \"#d8576b\"], [0.6666666666666666, \"#ed7953\"], [0.7777777777777778, \"#fb9f3a\"], [0.8888888888888888, \"#fdca26\"], [1.0, \"#f0f921\"]], \"type\": \"heatmap\"}], \"heatmapgl\": [{\"colorbar\": {\"outlinewidth\": 0, \"ticks\": \"\"}, \"colorscale\": [[0.0, \"#0d0887\"], [0.1111111111111111, \"#46039f\"], [0.2222222222222222, \"#7201a8\"], [0.3333333333333333, \"#9c179e\"], [0.4444444444444444, \"#bd3786\"], [0.5555555555555556, \"#d8576b\"], [0.6666666666666666, \"#ed7953\"], [0.7777777777777778, \"#fb9f3a\"], [0.8888888888888888, \"#fdca26\"], [1.0, \"#f0f921\"]], \"type\": \"heatmapgl\"}], \"histogram\": [{\"marker\": {\"colorbar\": {\"outlinewidth\": 0, \"ticks\": \"\"}}, \"type\": \"histogram\"}], \"histogram2d\": [{\"colorbar\": {\"outlinewidth\": 0, \"ticks\": \"\"}, \"colorscale\": [[0.0, \"#0d0887\"], [0.1111111111111111, \"#46039f\"], [0.2222222222222222, \"#7201a8\"], [0.3333333333333333, \"#9c179e\"], [0.4444444444444444, \"#bd3786\"], [0.5555555555555556, \"#d8576b\"], [0.6666666666666666, \"#ed7953\"], [0.7777777777777778, \"#fb9f3a\"], [0.8888888888888888, \"#fdca26\"], [1.0, \"#f0f921\"]], \"type\": \"histogram2d\"}], \"histogram2dcontour\": [{\"colorbar\": {\"outlinewidth\": 0, \"ticks\": \"\"}, \"colorscale\": [[0.0, \"#0d0887\"], [0.1111111111111111, \"#46039f\"], [0.2222222222222222, \"#7201a8\"], [0.3333333333333333, \"#9c179e\"], [0.4444444444444444, \"#bd3786\"], [0.5555555555555556, \"#d8576b\"], [0.6666666666666666, \"#ed7953\"], [0.7777777777777778, \"#fb9f3a\"], [0.8888888888888888, \"#fdca26\"], [1.0, \"#f0f921\"]], \"type\": \"histogram2dcontour\"}], \"mesh3d\": [{\"colorbar\": {\"outlinewidth\": 0, \"ticks\": \"\"}, \"type\": \"mesh3d\"}], \"parcoords\": [{\"line\": {\"colorbar\": {\"outlinewidth\": 0, \"ticks\": \"\"}}, \"type\": \"parcoords\"}], \"pie\": [{\"automargin\": true, \"type\": \"pie\"}], \"scatter\": [{\"marker\": {\"colorbar\": {\"outlinewidth\": 0, \"ticks\": \"\"}}, \"type\": \"scatter\"}], \"scatter3d\": [{\"line\": {\"colorbar\": {\"outlinewidth\": 0, \"ticks\": \"\"}}, \"marker\": {\"colorbar\": {\"outlinewidth\": 0, \"ticks\": \"\"}}, \"type\": \"scatter3d\"}], \"scattercarpet\": [{\"marker\": {\"colorbar\": {\"outlinewidth\": 0, \"ticks\": \"\"}}, \"type\": \"scattercarpet\"}], \"scattergeo\": [{\"marker\": {\"colorbar\": {\"outlinewidth\": 0, \"ticks\": \"\"}}, \"type\": \"scattergeo\"}], \"scattergl\": [{\"marker\": {\"colorbar\": {\"outlinewidth\": 0, \"ticks\": \"\"}}, \"type\": \"scattergl\"}], \"scattermapbox\": [{\"marker\": {\"colorbar\": {\"outlinewidth\": 0, \"ticks\": \"\"}}, \"type\": \"scattermapbox\"}], \"scatterpolar\": [{\"marker\": {\"colorbar\": {\"outlinewidth\": 0, \"ticks\": \"\"}}, \"type\": \"scatterpolar\"}], \"scatterpolargl\": [{\"marker\": {\"colorbar\": {\"outlinewidth\": 0, \"ticks\": \"\"}}, \"type\": \"scatterpolargl\"}], \"scatterternary\": [{\"marker\": {\"colorbar\": {\"outlinewidth\": 0, \"ticks\": \"\"}}, \"type\": \"scatterternary\"}], \"surface\": [{\"colorbar\": {\"outlinewidth\": 0, \"ticks\": \"\"}, \"colorscale\": [[0.0, \"#0d0887\"], [0.1111111111111111, \"#46039f\"], [0.2222222222222222, \"#7201a8\"], [0.3333333333333333, \"#9c179e\"], [0.4444444444444444, \"#bd3786\"], [0.5555555555555556, \"#d8576b\"], [0.6666666666666666, \"#ed7953\"], [0.7777777777777778, \"#fb9f3a\"], [0.8888888888888888, \"#fdca26\"], [1.0, \"#f0f921\"]], \"type\": \"surface\"}], \"table\": [{\"cells\": {\"fill\": {\"color\": \"#EBF0F8\"}, \"line\": {\"color\": \"white\"}}, \"header\": {\"fill\": {\"color\": \"#C8D4E3\"}, \"line\": {\"color\": \"white\"}}, \"type\": \"table\"}]}, \"layout\": {\"annotationdefaults\": {\"arrowcolor\": \"#2a3f5f\", \"arrowhead\": 0, \"arrowwidth\": 1}, \"autotypenumbers\": \"strict\", \"coloraxis\": {\"colorbar\": {\"outlinewidth\": 0, \"ticks\": \"\"}}, \"colorscale\": {\"diverging\": [[0, \"#8e0152\"], [0.1, \"#c51b7d\"], [0.2, \"#de77ae\"], [0.3, \"#f1b6da\"], [0.4, \"#fde0ef\"], [0.5, \"#f7f7f7\"], [0.6, \"#e6f5d0\"], [0.7, \"#b8e186\"], [0.8, \"#7fbc41\"], [0.9, \"#4d9221\"], [1, \"#276419\"]], \"sequential\": [[0.0, \"#0d0887\"], [0.1111111111111111, \"#46039f\"], [0.2222222222222222, \"#7201a8\"], [0.3333333333333333, \"#9c179e\"], [0.4444444444444444, \"#bd3786\"], [0.5555555555555556, \"#d8576b\"], [0.6666666666666666, \"#ed7953\"], [0.7777777777777778, \"#fb9f3a\"], [0.8888888888888888, \"#fdca26\"], [1.0, \"#f0f921\"]], \"sequentialminus\": [[0.0, \"#0d0887\"], [0.1111111111111111, \"#46039f\"], [0.2222222222222222, \"#7201a8\"], [0.3333333333333333, \"#9c179e\"], [0.4444444444444444, \"#bd3786\"], [0.5555555555555556, \"#d8576b\"], [0.6666666666666666, \"#ed7953\"], [0.7777777777777778, \"#fb9f3a\"], [0.8888888888888888, \"#fdca26\"], [1.0, \"#f0f921\"]]}, \"colorway\": [\"#636efa\", \"#EF553B\", \"#00cc96\", \"#ab63fa\", \"#FFA15A\", \"#19d3f3\", \"#FF6692\", \"#B6E880\", \"#FF97FF\", \"#FECB52\"], \"font\": {\"color\": \"#2a3f5f\"}, \"geo\": {\"bgcolor\": \"white\", \"lakecolor\": \"white\", \"landcolor\": \"#E5ECF6\", \"showlakes\": true, \"showland\": true, \"subunitcolor\": \"white\"}, \"hoverlabel\": {\"align\": \"left\"}, \"hovermode\": \"closest\", \"mapbox\": {\"style\": \"light\"}, \"paper_bgcolor\": \"white\", \"plot_bgcolor\": \"#E5ECF6\", \"polar\": {\"angularaxis\": {\"gridcolor\": \"white\", \"linecolor\": \"white\", \"ticks\": \"\"}, \"bgcolor\": \"#E5ECF6\", \"radialaxis\": {\"gridcolor\": \"white\", \"linecolor\": \"white\", \"ticks\": \"\"}}, \"scene\": {\"xaxis\": {\"backgroundcolor\": \"#E5ECF6\", \"gridcolor\": \"white\", \"gridwidth\": 2, \"linecolor\": \"white\", \"showbackground\": true, \"ticks\": \"\", \"zerolinecolor\": \"white\"}, \"yaxis\": {\"backgroundcolor\": \"#E5ECF6\", \"gridcolor\": \"white\", \"gridwidth\": 2, \"linecolor\": \"white\", \"showbackground\": true, \"ticks\": \"\", \"zerolinecolor\": \"white\"}, \"zaxis\": {\"backgroundcolor\": \"#E5ECF6\", \"gridcolor\": \"white\", \"gridwidth\": 2, \"linecolor\": \"white\", \"showbackground\": true, \"ticks\": \"\", \"zerolinecolor\": \"white\"}}, \"shapedefaults\": {\"line\": {\"color\": \"#2a3f5f\"}}, \"ternary\": {\"aaxis\": {\"gridcolor\": \"white\", \"linecolor\": \"white\", \"ticks\": \"\"}, \"baxis\": {\"gridcolor\": \"white\", \"linecolor\": \"white\", \"ticks\": \"\"}, \"bgcolor\": \"#E5ECF6\", \"caxis\": {\"gridcolor\": \"white\", \"linecolor\": \"white\", \"ticks\": \"\"}}, \"title\": {\"x\": 0.05}, \"xaxis\": {\"automargin\": true, \"gridcolor\": \"white\", \"linecolor\": \"white\", \"ticks\": \"\", \"title\": {\"standoff\": 15}, \"zerolinecolor\": \"white\", \"zerolinewidth\": 2}, \"yaxis\": {\"automargin\": true, \"gridcolor\": \"white\", \"linecolor\": \"white\", \"ticks\": \"\", \"title\": {\"standoff\": 15}, \"zerolinecolor\": \"white\", \"zerolinewidth\": 2}}}, \"title\": {\"font\": {\"color\": \"grey\", \"size\": 20}, \"text\": \"Precio promedio de venta por m2 - A\\u00f1o 2019\", \"x\": 0.5, \"y\": 0.9}},                        {\"responsive\": true}                    ).then(function(){\n",
              "                            \n",
              "var gd = document.getElementById('9e409000-39c9-4ea4-afcd-323522246618');\n",
              "var x = new MutationObserver(function (mutations, observer) {{\n",
              "        var display = window.getComputedStyle(gd).display;\n",
              "        if (!display || display === 'none') {{\n",
              "            console.log([gd, 'removed!']);\n",
              "            Plotly.purge(gd);\n",
              "            observer.disconnect();\n",
              "        }}\n",
              "}});\n",
              "\n",
              "// Listen for the removal of the full notebook cells\n",
              "var notebookContainer = gd.closest('#notebook-container');\n",
              "if (notebookContainer) {{\n",
              "    x.observe(notebookContainer, {childList: true});\n",
              "}}\n",
              "\n",
              "// Listen for the clearing of the current output cell\n",
              "var outputEl = gd.closest('.output');\n",
              "if (outputEl) {{\n",
              "    x.observe(outputEl, {childList: true});\n",
              "}}\n",
              "\n",
              "                        })                };                            </script>        </div>\n",
              "</body>\n",
              "</html>"
            ]
          },
          "metadata": {
            "tags": []
          }
        }
      ]
    },
    {
      "cell_type": "code",
      "metadata": {
        "id": "Ir6u8KqrseUB"
      },
      "source": [
        "p = {2018:'darkgreen',\n",
        "     2019:'orange'}"
      ],
      "execution_count": 28,
      "outputs": []
    },
    {
      "cell_type": "code",
      "metadata": {
        "id": "0Rg5UubBlQZW"
      },
      "source": [
        "i = h.loc[h.año.isin([2018,2019]),:].sort_values('precio_prom', ascending=False).head(20)\n",
        "i"
      ],
      "execution_count": null,
      "outputs": []
    },
    {
      "cell_type": "code",
      "metadata": {
        "colab": {
          "base_uri": "https://localhost:8080/",
          "height": 541
        },
        "id": "FBBn4F7cENze",
        "outputId": "bfad8853-d7ed-4398-e6d5-2ec2649096dc"
      },
      "source": [
        "fig6=px.line(data_frame=i,\n",
        "        x='barrio',\n",
        "        y='precio_prom',\n",
        "        color= 'año',\n",
        "        labels = {'barrio':'Barrio', 'precio_prom':'Precio promedio de Venta'},\n",
        "        title = 'Top 20 de precios promedio de venta de departamentos de la CABA - Años 2018 y 2019')\n",
        "fig6"
      ],
      "execution_count": 30,
      "outputs": [
        {
          "output_type": "display_data",
          "data": {
            "text/html": [
              "<html>\n",
              "<head><meta charset=\"utf-8\" /></head>\n",
              "<body>\n",
              "    <div>            <script src=\"https://cdnjs.cloudflare.com/ajax/libs/mathjax/2.7.5/MathJax.js?config=TeX-AMS-MML_SVG\"></script><script type=\"text/javascript\">if (window.MathJax) {MathJax.Hub.Config({SVG: {font: \"STIX-Web\"}});}</script>                <script type=\"text/javascript\">window.PlotlyConfig = {MathJaxConfig: 'local'};</script>\n",
              "        <script src=\"https://cdn.plot.ly/plotly-latest.min.js\"></script>                <div id=\"4dc5fd0a-072c-41c5-8f1c-bd4200468f1e\" class=\"plotly-graph-div\" style=\"height:525px; width:100%;\"></div>            <script type=\"text/javascript\">                                    window.PLOTLYENV=window.PLOTLYENV || {};                                    if (document.getElementById(\"4dc5fd0a-072c-41c5-8f1c-bd4200468f1e\")) {                    Plotly.newPlot(                        \"4dc5fd0a-072c-41c5-8f1c-bd4200468f1e\",                        [{\"hovertemplate\": \"a\\u00f1o=2018<br>Barrio=%{x}<br>Precio promedio de Venta=%{y}<extra></extra>\", \"legendgroup\": \"2018\", \"line\": {\"color\": \"#636efa\", \"dash\": \"solid\"}, \"mode\": \"lines\", \"name\": \"2018\", \"orientation\": \"v\", \"showlegend\": true, \"type\": \"scatter\", \"x\": [\"PUERTO MADERO\", \"RECOLETA\", \"PALERMO\", \"BELGRANO\", \"NU\\u00d1EZ\", \"COLEGIALES\", \"VILLA URQUIZA\", \"COGHLAN\", \"RETIRO\"], \"xaxis\": \"x\", \"y\": [6166.875, 3922.0625, 3848.75, 3837.75, 3689.0, 3436.6923076923076, 3285.5, 3250.3333333333335, 3104.625], \"yaxis\": \"y\"}, {\"hovertemplate\": \"a\\u00f1o=2019<br>Barrio=%{x}<br>Precio promedio de Venta=%{y}<extra></extra>\", \"legendgroup\": \"2019\", \"line\": {\"color\": \"#EF553B\", \"dash\": \"solid\"}, \"mode\": \"lines\", \"name\": \"2019\", \"orientation\": \"v\", \"showlegend\": true, \"type\": \"scatter\", \"x\": [\"PUERTO MADERO\", \"PALERMO\", \"BELGRANO\", \"RECOLETA\", \"NU\\u00d1EZ\", \"COLEGIALES\", \"COGHLAN\", \"VILLA URQUIZA\", \"VILLA ORTUZAR\", \"RETIRO\", \"SAAVEDRA\"], \"xaxis\": \"x\", \"y\": [6121.0, 3840.75, 3771.75, 3704.75, 3617.75, 3512.25, 3373.25, 3335.875, 3298.0, 3150.75, 3101.4285714285716], \"yaxis\": \"y\"}],                        {\"legend\": {\"title\": {\"text\": \"a\\u00f1o\"}, \"tracegroupgap\": 0}, \"template\": {\"data\": {\"bar\": [{\"error_x\": {\"color\": \"#2a3f5f\"}, \"error_y\": {\"color\": \"#2a3f5f\"}, \"marker\": {\"line\": {\"color\": \"#E5ECF6\", \"width\": 0.5}}, \"type\": \"bar\"}], \"barpolar\": [{\"marker\": {\"line\": {\"color\": \"#E5ECF6\", \"width\": 0.5}}, \"type\": \"barpolar\"}], \"carpet\": [{\"aaxis\": {\"endlinecolor\": \"#2a3f5f\", \"gridcolor\": \"white\", \"linecolor\": \"white\", \"minorgridcolor\": \"white\", \"startlinecolor\": \"#2a3f5f\"}, \"baxis\": {\"endlinecolor\": \"#2a3f5f\", \"gridcolor\": \"white\", \"linecolor\": \"white\", \"minorgridcolor\": \"white\", \"startlinecolor\": \"#2a3f5f\"}, \"type\": \"carpet\"}], \"choropleth\": [{\"colorbar\": {\"outlinewidth\": 0, \"ticks\": \"\"}, \"type\": \"choropleth\"}], \"contour\": [{\"colorbar\": {\"outlinewidth\": 0, \"ticks\": \"\"}, \"colorscale\": [[0.0, \"#0d0887\"], [0.1111111111111111, \"#46039f\"], [0.2222222222222222, \"#7201a8\"], [0.3333333333333333, \"#9c179e\"], [0.4444444444444444, \"#bd3786\"], [0.5555555555555556, \"#d8576b\"], [0.6666666666666666, \"#ed7953\"], [0.7777777777777778, \"#fb9f3a\"], [0.8888888888888888, \"#fdca26\"], [1.0, \"#f0f921\"]], \"type\": \"contour\"}], \"contourcarpet\": [{\"colorbar\": {\"outlinewidth\": 0, \"ticks\": \"\"}, \"type\": \"contourcarpet\"}], \"heatmap\": [{\"colorbar\": {\"outlinewidth\": 0, \"ticks\": \"\"}, \"colorscale\": [[0.0, \"#0d0887\"], [0.1111111111111111, \"#46039f\"], [0.2222222222222222, \"#7201a8\"], [0.3333333333333333, \"#9c179e\"], [0.4444444444444444, \"#bd3786\"], [0.5555555555555556, \"#d8576b\"], [0.6666666666666666, \"#ed7953\"], [0.7777777777777778, \"#fb9f3a\"], [0.8888888888888888, \"#fdca26\"], [1.0, \"#f0f921\"]], \"type\": \"heatmap\"}], \"heatmapgl\": [{\"colorbar\": {\"outlinewidth\": 0, \"ticks\": \"\"}, \"colorscale\": [[0.0, \"#0d0887\"], [0.1111111111111111, \"#46039f\"], [0.2222222222222222, \"#7201a8\"], [0.3333333333333333, \"#9c179e\"], [0.4444444444444444, \"#bd3786\"], [0.5555555555555556, \"#d8576b\"], [0.6666666666666666, \"#ed7953\"], [0.7777777777777778, \"#fb9f3a\"], [0.8888888888888888, \"#fdca26\"], [1.0, \"#f0f921\"]], \"type\": \"heatmapgl\"}], \"histogram\": [{\"marker\": {\"colorbar\": {\"outlinewidth\": 0, \"ticks\": \"\"}}, \"type\": \"histogram\"}], \"histogram2d\": [{\"colorbar\": {\"outlinewidth\": 0, \"ticks\": \"\"}, \"colorscale\": [[0.0, \"#0d0887\"], [0.1111111111111111, \"#46039f\"], [0.2222222222222222, \"#7201a8\"], [0.3333333333333333, \"#9c179e\"], [0.4444444444444444, \"#bd3786\"], [0.5555555555555556, \"#d8576b\"], [0.6666666666666666, \"#ed7953\"], [0.7777777777777778, \"#fb9f3a\"], [0.8888888888888888, \"#fdca26\"], [1.0, \"#f0f921\"]], \"type\": \"histogram2d\"}], \"histogram2dcontour\": [{\"colorbar\": {\"outlinewidth\": 0, \"ticks\": \"\"}, \"colorscale\": [[0.0, \"#0d0887\"], [0.1111111111111111, \"#46039f\"], [0.2222222222222222, \"#7201a8\"], [0.3333333333333333, \"#9c179e\"], [0.4444444444444444, \"#bd3786\"], [0.5555555555555556, \"#d8576b\"], [0.6666666666666666, \"#ed7953\"], [0.7777777777777778, \"#fb9f3a\"], [0.8888888888888888, \"#fdca26\"], [1.0, \"#f0f921\"]], \"type\": \"histogram2dcontour\"}], \"mesh3d\": [{\"colorbar\": {\"outlinewidth\": 0, \"ticks\": \"\"}, \"type\": \"mesh3d\"}], \"parcoords\": [{\"line\": {\"colorbar\": {\"outlinewidth\": 0, \"ticks\": \"\"}}, \"type\": \"parcoords\"}], \"pie\": [{\"automargin\": true, \"type\": \"pie\"}], \"scatter\": [{\"marker\": {\"colorbar\": {\"outlinewidth\": 0, \"ticks\": \"\"}}, \"type\": \"scatter\"}], \"scatter3d\": [{\"line\": {\"colorbar\": {\"outlinewidth\": 0, \"ticks\": \"\"}}, \"marker\": {\"colorbar\": {\"outlinewidth\": 0, \"ticks\": \"\"}}, \"type\": \"scatter3d\"}], \"scattercarpet\": [{\"marker\": {\"colorbar\": {\"outlinewidth\": 0, \"ticks\": \"\"}}, \"type\": \"scattercarpet\"}], \"scattergeo\": [{\"marker\": {\"colorbar\": {\"outlinewidth\": 0, \"ticks\": \"\"}}, \"type\": \"scattergeo\"}], \"scattergl\": [{\"marker\": {\"colorbar\": {\"outlinewidth\": 0, \"ticks\": \"\"}}, \"type\": \"scattergl\"}], \"scattermapbox\": [{\"marker\": {\"colorbar\": {\"outlinewidth\": 0, \"ticks\": \"\"}}, \"type\": \"scattermapbox\"}], \"scatterpolar\": [{\"marker\": {\"colorbar\": {\"outlinewidth\": 0, \"ticks\": \"\"}}, \"type\": \"scatterpolar\"}], \"scatterpolargl\": [{\"marker\": {\"colorbar\": {\"outlinewidth\": 0, \"ticks\": \"\"}}, \"type\": \"scatterpolargl\"}], \"scatterternary\": [{\"marker\": {\"colorbar\": {\"outlinewidth\": 0, \"ticks\": \"\"}}, \"type\": \"scatterternary\"}], \"surface\": [{\"colorbar\": {\"outlinewidth\": 0, \"ticks\": \"\"}, \"colorscale\": [[0.0, \"#0d0887\"], [0.1111111111111111, \"#46039f\"], [0.2222222222222222, \"#7201a8\"], [0.3333333333333333, \"#9c179e\"], [0.4444444444444444, \"#bd3786\"], [0.5555555555555556, \"#d8576b\"], [0.6666666666666666, \"#ed7953\"], [0.7777777777777778, \"#fb9f3a\"], [0.8888888888888888, \"#fdca26\"], [1.0, \"#f0f921\"]], \"type\": \"surface\"}], \"table\": [{\"cells\": {\"fill\": {\"color\": \"#EBF0F8\"}, \"line\": {\"color\": \"white\"}}, \"header\": {\"fill\": {\"color\": \"#C8D4E3\"}, \"line\": {\"color\": \"white\"}}, \"type\": \"table\"}]}, \"layout\": {\"annotationdefaults\": {\"arrowcolor\": \"#2a3f5f\", \"arrowhead\": 0, \"arrowwidth\": 1}, \"autotypenumbers\": \"strict\", \"coloraxis\": {\"colorbar\": {\"outlinewidth\": 0, \"ticks\": \"\"}}, \"colorscale\": {\"diverging\": [[0, \"#8e0152\"], [0.1, \"#c51b7d\"], [0.2, \"#de77ae\"], [0.3, \"#f1b6da\"], [0.4, \"#fde0ef\"], [0.5, \"#f7f7f7\"], [0.6, \"#e6f5d0\"], [0.7, \"#b8e186\"], [0.8, \"#7fbc41\"], [0.9, \"#4d9221\"], [1, \"#276419\"]], \"sequential\": [[0.0, \"#0d0887\"], [0.1111111111111111, \"#46039f\"], [0.2222222222222222, \"#7201a8\"], [0.3333333333333333, \"#9c179e\"], [0.4444444444444444, \"#bd3786\"], [0.5555555555555556, \"#d8576b\"], [0.6666666666666666, \"#ed7953\"], [0.7777777777777778, \"#fb9f3a\"], [0.8888888888888888, \"#fdca26\"], [1.0, \"#f0f921\"]], \"sequentialminus\": [[0.0, \"#0d0887\"], [0.1111111111111111, \"#46039f\"], [0.2222222222222222, \"#7201a8\"], [0.3333333333333333, \"#9c179e\"], [0.4444444444444444, \"#bd3786\"], [0.5555555555555556, \"#d8576b\"], [0.6666666666666666, \"#ed7953\"], [0.7777777777777778, \"#fb9f3a\"], [0.8888888888888888, \"#fdca26\"], [1.0, \"#f0f921\"]]}, \"colorway\": [\"#636efa\", \"#EF553B\", \"#00cc96\", \"#ab63fa\", \"#FFA15A\", \"#19d3f3\", \"#FF6692\", \"#B6E880\", \"#FF97FF\", \"#FECB52\"], \"font\": {\"color\": \"#2a3f5f\"}, \"geo\": {\"bgcolor\": \"white\", \"lakecolor\": \"white\", \"landcolor\": \"#E5ECF6\", \"showlakes\": true, \"showland\": true, \"subunitcolor\": \"white\"}, \"hoverlabel\": {\"align\": \"left\"}, \"hovermode\": \"closest\", \"mapbox\": {\"style\": \"light\"}, \"paper_bgcolor\": \"white\", \"plot_bgcolor\": \"#E5ECF6\", \"polar\": {\"angularaxis\": {\"gridcolor\": \"white\", \"linecolor\": \"white\", \"ticks\": \"\"}, \"bgcolor\": \"#E5ECF6\", \"radialaxis\": {\"gridcolor\": \"white\", \"linecolor\": \"white\", \"ticks\": \"\"}}, \"scene\": {\"xaxis\": {\"backgroundcolor\": \"#E5ECF6\", \"gridcolor\": \"white\", \"gridwidth\": 2, \"linecolor\": \"white\", \"showbackground\": true, \"ticks\": \"\", \"zerolinecolor\": \"white\"}, \"yaxis\": {\"backgroundcolor\": \"#E5ECF6\", \"gridcolor\": \"white\", \"gridwidth\": 2, \"linecolor\": \"white\", \"showbackground\": true, \"ticks\": \"\", \"zerolinecolor\": \"white\"}, \"zaxis\": {\"backgroundcolor\": \"#E5ECF6\", \"gridcolor\": \"white\", \"gridwidth\": 2, \"linecolor\": \"white\", \"showbackground\": true, \"ticks\": \"\", \"zerolinecolor\": \"white\"}}, \"shapedefaults\": {\"line\": {\"color\": \"#2a3f5f\"}}, \"ternary\": {\"aaxis\": {\"gridcolor\": \"white\", \"linecolor\": \"white\", \"ticks\": \"\"}, \"baxis\": {\"gridcolor\": \"white\", \"linecolor\": \"white\", \"ticks\": \"\"}, \"bgcolor\": \"#E5ECF6\", \"caxis\": {\"gridcolor\": \"white\", \"linecolor\": \"white\", \"ticks\": \"\"}}, \"title\": {\"x\": 0.05}, \"xaxis\": {\"automargin\": true, \"gridcolor\": \"white\", \"linecolor\": \"white\", \"ticks\": \"\", \"title\": {\"standoff\": 15}, \"zerolinecolor\": \"white\", \"zerolinewidth\": 2}, \"yaxis\": {\"automargin\": true, \"gridcolor\": \"white\", \"linecolor\": \"white\", \"ticks\": \"\", \"title\": {\"standoff\": 15}, \"zerolinecolor\": \"white\", \"zerolinewidth\": 2}}}, \"title\": {\"text\": \"Top 20 de precios promedio de venta de departamentos de la CABA - A\\u00f1os 2018 y 2019\"}, \"xaxis\": {\"anchor\": \"y\", \"domain\": [0.0, 1.0], \"title\": {\"text\": \"Barrio\"}}, \"yaxis\": {\"anchor\": \"x\", \"domain\": [0.0, 1.0], \"title\": {\"text\": \"Precio promedio de Venta\"}}},                        {\"responsive\": true}                    ).then(function(){\n",
              "                            \n",
              "var gd = document.getElementById('4dc5fd0a-072c-41c5-8f1c-bd4200468f1e');\n",
              "var x = new MutationObserver(function (mutations, observer) {{\n",
              "        var display = window.getComputedStyle(gd).display;\n",
              "        if (!display || display === 'none') {{\n",
              "            console.log([gd, 'removed!']);\n",
              "            Plotly.purge(gd);\n",
              "            observer.disconnect();\n",
              "        }}\n",
              "}});\n",
              "\n",
              "// Listen for the removal of the full notebook cells\n",
              "var notebookContainer = gd.closest('#notebook-container');\n",
              "if (notebookContainer) {{\n",
              "    x.observe(notebookContainer, {childList: true});\n",
              "}}\n",
              "\n",
              "// Listen for the clearing of the current output cell\n",
              "var outputEl = gd.closest('.output');\n",
              "if (outputEl) {{\n",
              "    x.observe(outputEl, {childList: true});\n",
              "}}\n",
              "\n",
              "                        })                };                            </script>        </div>\n",
              "</body>\n",
              "</html>"
            ]
          },
          "metadata": {
            "tags": []
          }
        }
      ]
    },
    {
      "cell_type": "code",
      "metadata": {
        "id": "_SjhzlZSotUt"
      },
      "source": [
        "j = f.groupby(['año', 'barrio','ambientes'], as_index=False)['precio_prom'].mean().sort_values(by='precio_prom', ascending=False)\n",
        "j = j.reset_index(drop=True)\n",
        "j = j.loc[j.año.isin([2018,2019])].sort_values('precio_prom', ascending=False).head(30)\n",
        "j.barrio.unique()"
      ],
      "execution_count": null,
      "outputs": []
    },
    {
      "cell_type": "code",
      "metadata": {
        "id": "qMcF6y-WwjmA"
      },
      "source": [
        "k = f.groupby(['año', 'barrio','ambientes', 'estado'], as_index=False)['precio_prom'].mean().sort_values(by='precio_prom', ascending=False)\n",
        "k = k.reset_index(drop=True)\n",
        "k = k.loc[k.año.isin([2018,2019])].sort_values('precio_prom', ascending=False).head(30)\n",
        "k.head()"
      ],
      "execution_count": null,
      "outputs": []
    },
    {
      "cell_type": "code",
      "metadata": {
        "id": "Vb30m6rgyIh2",
        "colab": {
          "base_uri": "https://localhost:8080/",
          "height": 541
        },
        "outputId": "dd56d50c-8a29-4596-ce25-3ed2c84e9bbf"
      },
      "source": [
        "fig7 = px.bar(data_frame = k,\n",
        "            x = k['barrio'],\n",
        "            y = k['precio_prom'],\n",
        "            color = k['año'],\n",
        "            facet_col = k['estado'],\n",
        "            hover_name = k['año'],\n",
        "            title = 'Precio promedio de venta de departamentos en CABA - Nuevo o Usado',\n",
        "            labels = {'precio_prom' : 'Precio Promedio' , 'barrio' : 'Barrio'}\n",
        "        )\n",
        "fig7.update_layout(\n",
        "    showlegend = False,\n",
        "    title = {\"x\":0.5,#centrar\n",
        "             \"y\":0.9,#bajar\n",
        "             \"font\":{\"size\":25, \"color\": \"grey\"}\n",
        "             }  \n",
        ")\n",
        "plt.show()\n",
        "fig7"
      ],
      "execution_count": 33,
      "outputs": [
        {
          "output_type": "display_data",
          "data": {
            "text/html": [
              "<html>\n",
              "<head><meta charset=\"utf-8\" /></head>\n",
              "<body>\n",
              "    <div>            <script src=\"https://cdnjs.cloudflare.com/ajax/libs/mathjax/2.7.5/MathJax.js?config=TeX-AMS-MML_SVG\"></script><script type=\"text/javascript\">if (window.MathJax) {MathJax.Hub.Config({SVG: {font: \"STIX-Web\"}});}</script>                <script type=\"text/javascript\">window.PlotlyConfig = {MathJaxConfig: 'local'};</script>\n",
              "        <script src=\"https://cdn.plot.ly/plotly-latest.min.js\"></script>                <div id=\"47aa610a-99a5-4e5b-9a33-0c009130f844\" class=\"plotly-graph-div\" style=\"height:525px; width:100%;\"></div>            <script type=\"text/javascript\">                                    window.PLOTLYENV=window.PLOTLYENV || {};                                    if (document.getElementById(\"47aa610a-99a5-4e5b-9a33-0c009130f844\")) {                    Plotly.newPlot(                        \"47aa610a-99a5-4e5b-9a33-0c009130f844\",                        [{\"alignmentgroup\": \"True\", \"hovertemplate\": \"<b>%{hovertext}</b><br><br>estado=Usado<br>Barrio=%{x}<br>Precio Promedio=%{y}<br>a\\u00f1o=%{marker.color}<extra></extra>\", \"hovertext\": [2019.0, 2018.0, 2018.0, 2019.0, 2018.0, 2019.0, 2018.0, 2018.0, 2019.0, 2018.0, 2018.0, 2018.0, 2019.0, 2018.0, 2019.0, 2018.0, 2019.0, 2019.0, 2019.0], \"legendgroup\": \"\", \"marker\": {\"color\": [2019, 2018, 2018, 2019, 2018, 2019, 2018, 2018, 2019, 2018, 2018, 2018, 2019, 2018, 2019, 2018, 2019, 2019, 2019], \"coloraxis\": \"coloraxis\"}, \"name\": \"\", \"offsetgroup\": \"\", \"orientation\": \"v\", \"showlegend\": false, \"textposition\": \"auto\", \"type\": \"bar\", \"x\": [\"PUERTO MADERO\", \"PUERTO MADERO\", \"PUERTO MADERO\", \"PUERTO MADERO\", \"PALERMO\", \"PALERMO\", \"NU\\u00d1EZ\", \"COGHLAN\", \"NU\\u00d1EZ\", \"PALERMO\", \"BELGRANO\", \"RECOLETA\", \"COLEGIALES\", \"NU\\u00d1EZ\", \"BELGRANO\", \"BELGRANO\", \"PALERMO\", \"COGHLAN\", \"BELGRANO\"], \"xaxis\": \"x\", \"y\": [6354.0, 6293.25, 6040.5, 5888.0, 3704.75, 3617.0, 3610.5, 3558.0, 3534.0, 3511.25, 3479.75, 3474.5, 3465.5, 3445.5, 3430.5, 3424.25, 3419.5, 3396.0, 3378.0], \"yaxis\": \"y\"}, {\"alignmentgroup\": \"True\", \"hovertemplate\": \"<b>%{hovertext}</b><br><br>estado=Nuevo<br>Barrio=%{x}<br>Precio Promedio=%{y}<br>a\\u00f1o=%{marker.color}<extra></extra>\", \"hovertext\": [2018.0, 2018.0, 2019.0, 2019.0, 2019.0, 2018.0, 2018.0, 2019.0, 2019.0, 2018.0, 2019.0], \"legendgroup\": \"\", \"marker\": {\"color\": [2018, 2018, 2019, 2019, 2019, 2018, 2018, 2019, 2019, 2018, 2019], \"coloraxis\": \"coloraxis\"}, \"name\": \"\", \"offsetgroup\": \"\", \"orientation\": \"v\", \"showlegend\": false, \"textposition\": \"auto\", \"type\": \"bar\", \"x\": [\"RECOLETA\", \"BELGRANO\", \"PALERMO\", \"BELGRANO\", \"RECOLETA\", \"PALERMO\", \"NU\\u00d1EZ\", \"NU\\u00d1EZ\", \"COLEGIALES\", \"COLEGIALES\", \"VILLA URQUIZA\"], \"xaxis\": \"x2\", \"y\": [4449.75, 4223.5, 4163.25, 4139.25, 4103.0, 4089.5, 3903.6666666666665, 3793.0, 3703.0, 3639.6, 3420.5], \"yaxis\": \"y2\"}],                        {\"annotations\": [{\"font\": {}, \"showarrow\": false, \"text\": \"estado=Usado\", \"x\": 0.245, \"xanchor\": \"center\", \"xref\": \"paper\", \"y\": 1.0, \"yanchor\": \"bottom\", \"yref\": \"paper\"}, {\"font\": {}, \"showarrow\": false, \"text\": \"estado=Nuevo\", \"x\": 0.755, \"xanchor\": \"center\", \"xref\": \"paper\", \"y\": 1.0, \"yanchor\": \"bottom\", \"yref\": \"paper\"}], \"barmode\": \"relative\", \"coloraxis\": {\"colorbar\": {\"title\": {\"text\": \"a\\u00f1o\"}}, \"colorscale\": [[0.0, \"#0d0887\"], [0.1111111111111111, \"#46039f\"], [0.2222222222222222, \"#7201a8\"], [0.3333333333333333, \"#9c179e\"], [0.4444444444444444, \"#bd3786\"], [0.5555555555555556, \"#d8576b\"], [0.6666666666666666, \"#ed7953\"], [0.7777777777777778, \"#fb9f3a\"], [0.8888888888888888, \"#fdca26\"], [1.0, \"#f0f921\"]]}, \"legend\": {\"tracegroupgap\": 0}, \"showlegend\": false, \"template\": {\"data\": {\"bar\": [{\"error_x\": {\"color\": \"#2a3f5f\"}, \"error_y\": {\"color\": \"#2a3f5f\"}, \"marker\": {\"line\": {\"color\": \"#E5ECF6\", \"width\": 0.5}}, \"type\": \"bar\"}], \"barpolar\": [{\"marker\": {\"line\": {\"color\": \"#E5ECF6\", \"width\": 0.5}}, \"type\": \"barpolar\"}], \"carpet\": [{\"aaxis\": {\"endlinecolor\": \"#2a3f5f\", \"gridcolor\": \"white\", \"linecolor\": \"white\", \"minorgridcolor\": \"white\", \"startlinecolor\": \"#2a3f5f\"}, \"baxis\": {\"endlinecolor\": \"#2a3f5f\", \"gridcolor\": \"white\", \"linecolor\": \"white\", \"minorgridcolor\": \"white\", \"startlinecolor\": \"#2a3f5f\"}, \"type\": \"carpet\"}], \"choropleth\": [{\"colorbar\": {\"outlinewidth\": 0, \"ticks\": \"\"}, \"type\": \"choropleth\"}], \"contour\": [{\"colorbar\": {\"outlinewidth\": 0, \"ticks\": \"\"}, \"colorscale\": [[0.0, \"#0d0887\"], [0.1111111111111111, \"#46039f\"], [0.2222222222222222, \"#7201a8\"], [0.3333333333333333, \"#9c179e\"], [0.4444444444444444, \"#bd3786\"], [0.5555555555555556, \"#d8576b\"], [0.6666666666666666, \"#ed7953\"], [0.7777777777777778, \"#fb9f3a\"], [0.8888888888888888, \"#fdca26\"], [1.0, \"#f0f921\"]], \"type\": \"contour\"}], \"contourcarpet\": [{\"colorbar\": {\"outlinewidth\": 0, \"ticks\": \"\"}, \"type\": \"contourcarpet\"}], \"heatmap\": [{\"colorbar\": {\"outlinewidth\": 0, \"ticks\": \"\"}, \"colorscale\": [[0.0, \"#0d0887\"], [0.1111111111111111, \"#46039f\"], [0.2222222222222222, \"#7201a8\"], [0.3333333333333333, \"#9c179e\"], [0.4444444444444444, \"#bd3786\"], [0.5555555555555556, \"#d8576b\"], [0.6666666666666666, \"#ed7953\"], [0.7777777777777778, \"#fb9f3a\"], [0.8888888888888888, \"#fdca26\"], [1.0, \"#f0f921\"]], \"type\": \"heatmap\"}], \"heatmapgl\": [{\"colorbar\": {\"outlinewidth\": 0, \"ticks\": \"\"}, \"colorscale\": [[0.0, \"#0d0887\"], [0.1111111111111111, \"#46039f\"], [0.2222222222222222, \"#7201a8\"], [0.3333333333333333, \"#9c179e\"], [0.4444444444444444, \"#bd3786\"], [0.5555555555555556, \"#d8576b\"], [0.6666666666666666, \"#ed7953\"], [0.7777777777777778, \"#fb9f3a\"], [0.8888888888888888, \"#fdca26\"], [1.0, \"#f0f921\"]], \"type\": \"heatmapgl\"}], \"histogram\": [{\"marker\": {\"colorbar\": {\"outlinewidth\": 0, \"ticks\": \"\"}}, \"type\": \"histogram\"}], \"histogram2d\": [{\"colorbar\": {\"outlinewidth\": 0, \"ticks\": \"\"}, \"colorscale\": [[0.0, \"#0d0887\"], [0.1111111111111111, \"#46039f\"], [0.2222222222222222, \"#7201a8\"], [0.3333333333333333, \"#9c179e\"], [0.4444444444444444, \"#bd3786\"], [0.5555555555555556, \"#d8576b\"], [0.6666666666666666, \"#ed7953\"], [0.7777777777777778, \"#fb9f3a\"], [0.8888888888888888, \"#fdca26\"], [1.0, \"#f0f921\"]], \"type\": \"histogram2d\"}], \"histogram2dcontour\": [{\"colorbar\": {\"outlinewidth\": 0, \"ticks\": \"\"}, \"colorscale\": [[0.0, \"#0d0887\"], [0.1111111111111111, \"#46039f\"], [0.2222222222222222, \"#7201a8\"], [0.3333333333333333, \"#9c179e\"], [0.4444444444444444, \"#bd3786\"], [0.5555555555555556, \"#d8576b\"], [0.6666666666666666, \"#ed7953\"], [0.7777777777777778, \"#fb9f3a\"], [0.8888888888888888, \"#fdca26\"], [1.0, \"#f0f921\"]], \"type\": \"histogram2dcontour\"}], \"mesh3d\": [{\"colorbar\": {\"outlinewidth\": 0, \"ticks\": \"\"}, \"type\": \"mesh3d\"}], \"parcoords\": [{\"line\": {\"colorbar\": {\"outlinewidth\": 0, \"ticks\": \"\"}}, \"type\": \"parcoords\"}], \"pie\": [{\"automargin\": true, \"type\": \"pie\"}], \"scatter\": [{\"marker\": {\"colorbar\": {\"outlinewidth\": 0, \"ticks\": \"\"}}, \"type\": \"scatter\"}], \"scatter3d\": [{\"line\": {\"colorbar\": {\"outlinewidth\": 0, \"ticks\": \"\"}}, \"marker\": {\"colorbar\": {\"outlinewidth\": 0, \"ticks\": \"\"}}, \"type\": \"scatter3d\"}], \"scattercarpet\": [{\"marker\": {\"colorbar\": {\"outlinewidth\": 0, \"ticks\": \"\"}}, \"type\": \"scattercarpet\"}], \"scattergeo\": [{\"marker\": {\"colorbar\": {\"outlinewidth\": 0, \"ticks\": \"\"}}, \"type\": \"scattergeo\"}], \"scattergl\": [{\"marker\": {\"colorbar\": {\"outlinewidth\": 0, \"ticks\": \"\"}}, \"type\": \"scattergl\"}], \"scattermapbox\": [{\"marker\": {\"colorbar\": {\"outlinewidth\": 0, \"ticks\": \"\"}}, \"type\": \"scattermapbox\"}], \"scatterpolar\": [{\"marker\": {\"colorbar\": {\"outlinewidth\": 0, \"ticks\": \"\"}}, \"type\": \"scatterpolar\"}], \"scatterpolargl\": [{\"marker\": {\"colorbar\": {\"outlinewidth\": 0, \"ticks\": \"\"}}, \"type\": \"scatterpolargl\"}], \"scatterternary\": [{\"marker\": {\"colorbar\": {\"outlinewidth\": 0, \"ticks\": \"\"}}, \"type\": \"scatterternary\"}], \"surface\": [{\"colorbar\": {\"outlinewidth\": 0, \"ticks\": \"\"}, \"colorscale\": [[0.0, \"#0d0887\"], [0.1111111111111111, \"#46039f\"], [0.2222222222222222, \"#7201a8\"], [0.3333333333333333, \"#9c179e\"], [0.4444444444444444, \"#bd3786\"], [0.5555555555555556, \"#d8576b\"], [0.6666666666666666, \"#ed7953\"], [0.7777777777777778, \"#fb9f3a\"], [0.8888888888888888, \"#fdca26\"], [1.0, \"#f0f921\"]], \"type\": \"surface\"}], \"table\": [{\"cells\": {\"fill\": {\"color\": \"#EBF0F8\"}, \"line\": {\"color\": \"white\"}}, \"header\": {\"fill\": {\"color\": \"#C8D4E3\"}, \"line\": {\"color\": \"white\"}}, \"type\": \"table\"}]}, \"layout\": {\"annotationdefaults\": {\"arrowcolor\": \"#2a3f5f\", \"arrowhead\": 0, \"arrowwidth\": 1}, \"autotypenumbers\": \"strict\", \"coloraxis\": {\"colorbar\": {\"outlinewidth\": 0, \"ticks\": \"\"}}, \"colorscale\": {\"diverging\": [[0, \"#8e0152\"], [0.1, \"#c51b7d\"], [0.2, \"#de77ae\"], [0.3, \"#f1b6da\"], [0.4, \"#fde0ef\"], [0.5, \"#f7f7f7\"], [0.6, \"#e6f5d0\"], [0.7, \"#b8e186\"], [0.8, \"#7fbc41\"], [0.9, \"#4d9221\"], [1, \"#276419\"]], \"sequential\": [[0.0, \"#0d0887\"], [0.1111111111111111, \"#46039f\"], [0.2222222222222222, \"#7201a8\"], [0.3333333333333333, \"#9c179e\"], [0.4444444444444444, \"#bd3786\"], [0.5555555555555556, \"#d8576b\"], [0.6666666666666666, \"#ed7953\"], [0.7777777777777778, \"#fb9f3a\"], [0.8888888888888888, \"#fdca26\"], [1.0, \"#f0f921\"]], \"sequentialminus\": [[0.0, \"#0d0887\"], [0.1111111111111111, \"#46039f\"], [0.2222222222222222, \"#7201a8\"], [0.3333333333333333, \"#9c179e\"], [0.4444444444444444, \"#bd3786\"], [0.5555555555555556, \"#d8576b\"], [0.6666666666666666, \"#ed7953\"], [0.7777777777777778, \"#fb9f3a\"], [0.8888888888888888, \"#fdca26\"], [1.0, \"#f0f921\"]]}, \"colorway\": [\"#636efa\", \"#EF553B\", \"#00cc96\", \"#ab63fa\", \"#FFA15A\", \"#19d3f3\", \"#FF6692\", \"#B6E880\", \"#FF97FF\", \"#FECB52\"], \"font\": {\"color\": \"#2a3f5f\"}, \"geo\": {\"bgcolor\": \"white\", \"lakecolor\": \"white\", \"landcolor\": \"#E5ECF6\", \"showlakes\": true, \"showland\": true, \"subunitcolor\": \"white\"}, \"hoverlabel\": {\"align\": \"left\"}, \"hovermode\": \"closest\", \"mapbox\": {\"style\": \"light\"}, \"paper_bgcolor\": \"white\", \"plot_bgcolor\": \"#E5ECF6\", \"polar\": {\"angularaxis\": {\"gridcolor\": \"white\", \"linecolor\": \"white\", \"ticks\": \"\"}, \"bgcolor\": \"#E5ECF6\", \"radialaxis\": {\"gridcolor\": \"white\", \"linecolor\": \"white\", \"ticks\": \"\"}}, \"scene\": {\"xaxis\": {\"backgroundcolor\": \"#E5ECF6\", \"gridcolor\": \"white\", \"gridwidth\": 2, \"linecolor\": \"white\", \"showbackground\": true, \"ticks\": \"\", \"zerolinecolor\": \"white\"}, \"yaxis\": {\"backgroundcolor\": \"#E5ECF6\", \"gridcolor\": \"white\", \"gridwidth\": 2, \"linecolor\": \"white\", \"showbackground\": true, \"ticks\": \"\", \"zerolinecolor\": \"white\"}, \"zaxis\": {\"backgroundcolor\": \"#E5ECF6\", \"gridcolor\": \"white\", \"gridwidth\": 2, \"linecolor\": \"white\", \"showbackground\": true, \"ticks\": \"\", \"zerolinecolor\": \"white\"}}, \"shapedefaults\": {\"line\": {\"color\": \"#2a3f5f\"}}, \"ternary\": {\"aaxis\": {\"gridcolor\": \"white\", \"linecolor\": \"white\", \"ticks\": \"\"}, \"baxis\": {\"gridcolor\": \"white\", \"linecolor\": \"white\", \"ticks\": \"\"}, \"bgcolor\": \"#E5ECF6\", \"caxis\": {\"gridcolor\": \"white\", \"linecolor\": \"white\", \"ticks\": \"\"}}, \"title\": {\"x\": 0.05}, \"xaxis\": {\"automargin\": true, \"gridcolor\": \"white\", \"linecolor\": \"white\", \"ticks\": \"\", \"title\": {\"standoff\": 15}, \"zerolinecolor\": \"white\", \"zerolinewidth\": 2}, \"yaxis\": {\"automargin\": true, \"gridcolor\": \"white\", \"linecolor\": \"white\", \"ticks\": \"\", \"title\": {\"standoff\": 15}, \"zerolinecolor\": \"white\", \"zerolinewidth\": 2}}}, \"title\": {\"font\": {\"color\": \"grey\", \"size\": 25}, \"text\": \"Precio promedio de venta de departamentos en CABA - Nuevo o Usado\", \"x\": 0.5, \"y\": 0.9}, \"xaxis\": {\"anchor\": \"y\", \"domain\": [0.0, 0.49], \"title\": {\"text\": \"Barrio\"}}, \"xaxis2\": {\"anchor\": \"y2\", \"domain\": [0.51, 1.0], \"matches\": \"x\", \"title\": {\"text\": \"Barrio\"}}, \"yaxis\": {\"anchor\": \"x\", \"domain\": [0.0, 1.0], \"title\": {\"text\": \"Precio Promedio\"}}, \"yaxis2\": {\"anchor\": \"x2\", \"domain\": [0.0, 1.0], \"matches\": \"y\", \"showticklabels\": false}},                        {\"responsive\": true}                    ).then(function(){\n",
              "                            \n",
              "var gd = document.getElementById('47aa610a-99a5-4e5b-9a33-0c009130f844');\n",
              "var x = new MutationObserver(function (mutations, observer) {{\n",
              "        var display = window.getComputedStyle(gd).display;\n",
              "        if (!display || display === 'none') {{\n",
              "            console.log([gd, 'removed!']);\n",
              "            Plotly.purge(gd);\n",
              "            observer.disconnect();\n",
              "        }}\n",
              "}});\n",
              "\n",
              "// Listen for the removal of the full notebook cells\n",
              "var notebookContainer = gd.closest('#notebook-container');\n",
              "if (notebookContainer) {{\n",
              "    x.observe(notebookContainer, {childList: true});\n",
              "}}\n",
              "\n",
              "// Listen for the clearing of the current output cell\n",
              "var outputEl = gd.closest('.output');\n",
              "if (outputEl) {{\n",
              "    x.observe(outputEl, {childList: true});\n",
              "}}\n",
              "\n",
              "                        })                };                            </script>        </div>\n",
              "</body>\n",
              "</html>"
            ]
          },
          "metadata": {
            "tags": []
          }
        }
      ]
    },
    {
      "cell_type": "code",
      "metadata": {
        "id": "nPr2FA-PUB80"
      },
      "source": [
        "z = f.loc[f.año == 2019]\n",
        "z.head()"
      ],
      "execution_count": null,
      "outputs": []
    },
    {
      "cell_type": "code",
      "metadata": {
        "id": "Kz9uCcMNUSv5"
      },
      "source": [
        "z = z.groupby(['barrio','estado', 'comuna'], as_index=False)['precio_prom'].mean().sort_values(by='precio_prom', ascending=False)\n",
        "z = z.reset_index(drop=True)\n",
        "z.head()"
      ],
      "execution_count": null,
      "outputs": []
    },
    {
      "cell_type": "code",
      "metadata": {
        "colab": {
          "base_uri": "https://localhost:8080/",
          "height": 541
        },
        "id": "nRO4Ah_US5Dv",
        "outputId": "c3d755a7-c6ab-48c7-e12b-64393f8f879d"
      },
      "source": [
        "fig5=px.pie(                                                                            \n",
        "    data_frame= z,\n",
        "    names = 'comuna',\n",
        "    values= 'precio_prom',\n",
        "    color = 'estado',\n",
        "    title='Precio de venta de departamentos por m2 por Comunas - Año 2019',\n",
        "    hole=0.4\n",
        ")\n",
        "fig5.update_traces(\n",
        "    textfont_size=11,\n",
        "    marker={'line': {'color':'black',\n",
        "                     'width':1}})\n",
        "fig5"
      ],
      "execution_count": 36,
      "outputs": [
        {
          "output_type": "display_data",
          "data": {
            "text/html": [
              "<html>\n",
              "<head><meta charset=\"utf-8\" /></head>\n",
              "<body>\n",
              "    <div>            <script src=\"https://cdnjs.cloudflare.com/ajax/libs/mathjax/2.7.5/MathJax.js?config=TeX-AMS-MML_SVG\"></script><script type=\"text/javascript\">if (window.MathJax) {MathJax.Hub.Config({SVG: {font: \"STIX-Web\"}});}</script>                <script type=\"text/javascript\">window.PlotlyConfig = {MathJaxConfig: 'local'};</script>\n",
              "        <script src=\"https://cdn.plot.ly/plotly-latest.min.js\"></script>                <div id=\"7082c3b8-a267-49d6-a6d1-452111377b5c\" class=\"plotly-graph-div\" style=\"height:525px; width:100%;\"></div>            <script type=\"text/javascript\">                                    window.PLOTLYENV=window.PLOTLYENV || {};                                    if (document.getElementById(\"7082c3b8-a267-49d6-a6d1-452111377b5c\")) {                    Plotly.newPlot(                        \"7082c3b8-a267-49d6-a6d1-452111377b5c\",                        [{\"customdata\": [[\"Usado\"], [\"Nuevo\"], [\"Nuevo\"], [\"Nuevo\"], [\"Nuevo\"], [\"Nuevo\"], [\"Usado\"], [\"Usado\"], [\"Nuevo\"], [\"Usado\"], [\"Usado\"], [\"Nuevo\"], [\"Nuevo\"], [\"Usado\"], [\"Usado\"], [\"Usado\"], [\"Nuevo\"], [\"Usado\"], [\"Nuevo\"], [\"Usado\"], [\"Nuevo\"], [\"Usado\"], [\"Usado\"], [\"Usado\"], [\"Nuevo\"], [\"Usado\"], [\"Nuevo\"], [\"Nuevo\"], [\"Nuevo\"], [\"Usado\"], [\"Nuevo\"], [\"Nuevo\"], [\"Nuevo\"], [\"Nuevo\"], [\"Usado\"], [\"Usado\"], [\"Usado\"], [\"Usado\"], [\"Nuevo\"], [\"Usado\"], [\"Usado\"], [\"Usado\"], [\"Usado\"], [\"Usado\"], [\"Usado\"], [\"Usado\"], [\"Usado\"], [\"Usado\"], [\"Usado\"], [\"Usado\"], [\"Usado\"], [\"Usado\"], [\"Usado\"], [\"Usado\"], [\"Usado\"], [\"Usado\"], [\"Usado\"], [\"Usado\"], [\"Usado\"], [\"Usado\"]], \"domain\": {\"x\": [0.0, 1.0], \"y\": [0.0, 1.0]}, \"hole\": 0.4, \"hovertemplate\": \"comuna=%{label}<br>precio_prom=%{value}<br>estado=%{customdata[0]}<extra></extra>\", \"labels\": [1, 14, 13, 2, 13, 13, 14, 13, 12, 13, 12, 6, 12, 13, 2, 15, 15, 12, 12, 1, 5, 12, 11, 12, 1, 15, 7, 9, 10, 6, 5, 7, 3, 9, 15, 11, 5, 7, 3, 4, 11, 10, 5, 9, 10, 1, 1, 7, 11, 1, 3, 3, 10, 10, 4, 9, 9, 4, 1, 8], \"legendgroup\": \"\", \"marker\": {\"colors\": [\"#636efa\", \"#EF553B\", \"#EF553B\", \"#EF553B\", \"#EF553B\", \"#EF553B\", \"#636efa\", \"#636efa\", \"#EF553B\", \"#636efa\", \"#636efa\", \"#EF553B\", \"#EF553B\", \"#636efa\", \"#636efa\", \"#636efa\", \"#EF553B\", \"#636efa\", \"#EF553B\", \"#636efa\", \"#EF553B\", \"#636efa\", \"#636efa\", \"#636efa\", \"#EF553B\", \"#636efa\", \"#EF553B\", \"#EF553B\", \"#EF553B\", \"#636efa\", \"#EF553B\", \"#EF553B\", \"#EF553B\", \"#EF553B\", \"#636efa\", \"#636efa\", \"#636efa\", \"#636efa\", \"#EF553B\", \"#636efa\", \"#636efa\", \"#636efa\", \"#636efa\", \"#636efa\", \"#636efa\", \"#636efa\", \"#636efa\", \"#636efa\", \"#636efa\", \"#636efa\", \"#636efa\", \"#636efa\", \"#636efa\", \"#636efa\", \"#636efa\", \"#636efa\", \"#636efa\", \"#636efa\", \"#636efa\", \"#636efa\"], \"line\": {\"color\": \"black\", \"width\": 1}}, \"name\": \"\", \"showlegend\": true, \"textfont\": {\"size\": 11}, \"type\": \"pie\", \"values\": [6121.0, 4163.25, 4139.25, 4103.0, 3793.0, 3703.0, 3518.25, 3442.5, 3420.5, 3404.25, 3379.6666666666665, 3373.0, 3354.0, 3321.5, 3306.5, 3298.0, 3252.25, 3251.25, 3156.0, 3150.75, 3128.5, 3060.5, 2859.25, 2842.6666666666665, 2830.0, 2811.3333333333335, 2800.5, 2788.5, 2778.0, 2772.0, 2747.5, 2745.0, 2720.0, 2716.5, 2669.0, 2621.3333333333335, 2600.0, 2488.5, 2478.0, 2466.25, 2461.6666666666665, 2402.3333333333335, 2395.75, 2394.0, 2372.75, 2367.0, 2359.75, 2343.25, 2339.6666666666665, 2244.25, 2235.75, 2203.75, 2194.75, 2082.0, 2060.25, 2049.0, 1899.6666666666667, 1884.5, 1803.5, 1289.0]}],                        {\"legend\": {\"tracegroupgap\": 0}, \"template\": {\"data\": {\"bar\": [{\"error_x\": {\"color\": \"#2a3f5f\"}, \"error_y\": {\"color\": \"#2a3f5f\"}, \"marker\": {\"line\": {\"color\": \"#E5ECF6\", \"width\": 0.5}}, \"type\": \"bar\"}], \"barpolar\": [{\"marker\": {\"line\": {\"color\": \"#E5ECF6\", \"width\": 0.5}}, \"type\": \"barpolar\"}], \"carpet\": [{\"aaxis\": {\"endlinecolor\": \"#2a3f5f\", \"gridcolor\": \"white\", \"linecolor\": \"white\", \"minorgridcolor\": \"white\", \"startlinecolor\": \"#2a3f5f\"}, \"baxis\": {\"endlinecolor\": \"#2a3f5f\", \"gridcolor\": \"white\", \"linecolor\": \"white\", \"minorgridcolor\": \"white\", \"startlinecolor\": \"#2a3f5f\"}, \"type\": \"carpet\"}], \"choropleth\": [{\"colorbar\": {\"outlinewidth\": 0, \"ticks\": \"\"}, \"type\": \"choropleth\"}], \"contour\": [{\"colorbar\": {\"outlinewidth\": 0, \"ticks\": \"\"}, \"colorscale\": [[0.0, \"#0d0887\"], [0.1111111111111111, \"#46039f\"], [0.2222222222222222, \"#7201a8\"], [0.3333333333333333, \"#9c179e\"], [0.4444444444444444, \"#bd3786\"], [0.5555555555555556, \"#d8576b\"], [0.6666666666666666, \"#ed7953\"], [0.7777777777777778, \"#fb9f3a\"], [0.8888888888888888, \"#fdca26\"], [1.0, \"#f0f921\"]], \"type\": \"contour\"}], \"contourcarpet\": [{\"colorbar\": {\"outlinewidth\": 0, \"ticks\": \"\"}, \"type\": \"contourcarpet\"}], \"heatmap\": [{\"colorbar\": {\"outlinewidth\": 0, \"ticks\": \"\"}, \"colorscale\": [[0.0, \"#0d0887\"], [0.1111111111111111, \"#46039f\"], [0.2222222222222222, \"#7201a8\"], [0.3333333333333333, \"#9c179e\"], [0.4444444444444444, \"#bd3786\"], [0.5555555555555556, \"#d8576b\"], [0.6666666666666666, \"#ed7953\"], [0.7777777777777778, \"#fb9f3a\"], [0.8888888888888888, \"#fdca26\"], [1.0, \"#f0f921\"]], \"type\": \"heatmap\"}], \"heatmapgl\": [{\"colorbar\": {\"outlinewidth\": 0, \"ticks\": \"\"}, \"colorscale\": [[0.0, \"#0d0887\"], [0.1111111111111111, \"#46039f\"], [0.2222222222222222, \"#7201a8\"], [0.3333333333333333, \"#9c179e\"], [0.4444444444444444, \"#bd3786\"], [0.5555555555555556, \"#d8576b\"], [0.6666666666666666, \"#ed7953\"], [0.7777777777777778, \"#fb9f3a\"], [0.8888888888888888, \"#fdca26\"], [1.0, \"#f0f921\"]], \"type\": \"heatmapgl\"}], \"histogram\": [{\"marker\": {\"colorbar\": {\"outlinewidth\": 0, \"ticks\": \"\"}}, \"type\": \"histogram\"}], \"histogram2d\": [{\"colorbar\": {\"outlinewidth\": 0, \"ticks\": \"\"}, \"colorscale\": [[0.0, \"#0d0887\"], [0.1111111111111111, \"#46039f\"], [0.2222222222222222, \"#7201a8\"], [0.3333333333333333, \"#9c179e\"], [0.4444444444444444, \"#bd3786\"], [0.5555555555555556, \"#d8576b\"], [0.6666666666666666, \"#ed7953\"], [0.7777777777777778, \"#fb9f3a\"], [0.8888888888888888, \"#fdca26\"], [1.0, \"#f0f921\"]], \"type\": \"histogram2d\"}], \"histogram2dcontour\": [{\"colorbar\": {\"outlinewidth\": 0, \"ticks\": \"\"}, \"colorscale\": [[0.0, \"#0d0887\"], [0.1111111111111111, \"#46039f\"], [0.2222222222222222, \"#7201a8\"], [0.3333333333333333, \"#9c179e\"], [0.4444444444444444, \"#bd3786\"], [0.5555555555555556, \"#d8576b\"], [0.6666666666666666, \"#ed7953\"], [0.7777777777777778, \"#fb9f3a\"], [0.8888888888888888, \"#fdca26\"], [1.0, \"#f0f921\"]], \"type\": \"histogram2dcontour\"}], \"mesh3d\": [{\"colorbar\": {\"outlinewidth\": 0, \"ticks\": \"\"}, \"type\": \"mesh3d\"}], \"parcoords\": [{\"line\": {\"colorbar\": {\"outlinewidth\": 0, \"ticks\": \"\"}}, \"type\": \"parcoords\"}], \"pie\": [{\"automargin\": true, \"type\": \"pie\"}], \"scatter\": [{\"marker\": {\"colorbar\": {\"outlinewidth\": 0, \"ticks\": \"\"}}, \"type\": \"scatter\"}], \"scatter3d\": [{\"line\": {\"colorbar\": {\"outlinewidth\": 0, \"ticks\": \"\"}}, \"marker\": {\"colorbar\": {\"outlinewidth\": 0, \"ticks\": \"\"}}, \"type\": \"scatter3d\"}], \"scattercarpet\": [{\"marker\": {\"colorbar\": {\"outlinewidth\": 0, \"ticks\": \"\"}}, \"type\": \"scattercarpet\"}], \"scattergeo\": [{\"marker\": {\"colorbar\": {\"outlinewidth\": 0, \"ticks\": \"\"}}, \"type\": \"scattergeo\"}], \"scattergl\": [{\"marker\": {\"colorbar\": {\"outlinewidth\": 0, \"ticks\": \"\"}}, \"type\": \"scattergl\"}], \"scattermapbox\": [{\"marker\": {\"colorbar\": {\"outlinewidth\": 0, \"ticks\": \"\"}}, \"type\": \"scattermapbox\"}], \"scatterpolar\": [{\"marker\": {\"colorbar\": {\"outlinewidth\": 0, \"ticks\": \"\"}}, \"type\": \"scatterpolar\"}], \"scatterpolargl\": [{\"marker\": {\"colorbar\": {\"outlinewidth\": 0, \"ticks\": \"\"}}, \"type\": \"scatterpolargl\"}], \"scatterternary\": [{\"marker\": {\"colorbar\": {\"outlinewidth\": 0, \"ticks\": \"\"}}, \"type\": \"scatterternary\"}], \"surface\": [{\"colorbar\": {\"outlinewidth\": 0, \"ticks\": \"\"}, \"colorscale\": [[0.0, \"#0d0887\"], [0.1111111111111111, \"#46039f\"], [0.2222222222222222, \"#7201a8\"], [0.3333333333333333, \"#9c179e\"], [0.4444444444444444, \"#bd3786\"], [0.5555555555555556, \"#d8576b\"], [0.6666666666666666, \"#ed7953\"], [0.7777777777777778, \"#fb9f3a\"], [0.8888888888888888, \"#fdca26\"], [1.0, \"#f0f921\"]], \"type\": \"surface\"}], \"table\": [{\"cells\": {\"fill\": {\"color\": \"#EBF0F8\"}, \"line\": {\"color\": \"white\"}}, \"header\": {\"fill\": {\"color\": \"#C8D4E3\"}, \"line\": {\"color\": \"white\"}}, \"type\": \"table\"}]}, \"layout\": {\"annotationdefaults\": {\"arrowcolor\": \"#2a3f5f\", \"arrowhead\": 0, \"arrowwidth\": 1}, \"autotypenumbers\": \"strict\", \"coloraxis\": {\"colorbar\": {\"outlinewidth\": 0, \"ticks\": \"\"}}, \"colorscale\": {\"diverging\": [[0, \"#8e0152\"], [0.1, \"#c51b7d\"], [0.2, \"#de77ae\"], [0.3, \"#f1b6da\"], [0.4, \"#fde0ef\"], [0.5, \"#f7f7f7\"], [0.6, \"#e6f5d0\"], [0.7, \"#b8e186\"], [0.8, \"#7fbc41\"], [0.9, \"#4d9221\"], [1, \"#276419\"]], \"sequential\": [[0.0, \"#0d0887\"], [0.1111111111111111, \"#46039f\"], [0.2222222222222222, \"#7201a8\"], [0.3333333333333333, \"#9c179e\"], [0.4444444444444444, \"#bd3786\"], [0.5555555555555556, \"#d8576b\"], [0.6666666666666666, \"#ed7953\"], [0.7777777777777778, \"#fb9f3a\"], [0.8888888888888888, \"#fdca26\"], [1.0, \"#f0f921\"]], \"sequentialminus\": [[0.0, \"#0d0887\"], [0.1111111111111111, \"#46039f\"], [0.2222222222222222, \"#7201a8\"], [0.3333333333333333, \"#9c179e\"], [0.4444444444444444, \"#bd3786\"], [0.5555555555555556, \"#d8576b\"], [0.6666666666666666, \"#ed7953\"], [0.7777777777777778, \"#fb9f3a\"], [0.8888888888888888, \"#fdca26\"], [1.0, \"#f0f921\"]]}, \"colorway\": [\"#636efa\", \"#EF553B\", \"#00cc96\", \"#ab63fa\", \"#FFA15A\", \"#19d3f3\", \"#FF6692\", \"#B6E880\", \"#FF97FF\", \"#FECB52\"], \"font\": {\"color\": \"#2a3f5f\"}, \"geo\": {\"bgcolor\": \"white\", \"lakecolor\": \"white\", \"landcolor\": \"#E5ECF6\", \"showlakes\": true, \"showland\": true, \"subunitcolor\": \"white\"}, \"hoverlabel\": {\"align\": \"left\"}, \"hovermode\": \"closest\", \"mapbox\": {\"style\": \"light\"}, \"paper_bgcolor\": \"white\", \"plot_bgcolor\": \"#E5ECF6\", \"polar\": {\"angularaxis\": {\"gridcolor\": \"white\", \"linecolor\": \"white\", \"ticks\": \"\"}, \"bgcolor\": \"#E5ECF6\", \"radialaxis\": {\"gridcolor\": \"white\", \"linecolor\": \"white\", \"ticks\": \"\"}}, \"scene\": {\"xaxis\": {\"backgroundcolor\": \"#E5ECF6\", \"gridcolor\": \"white\", \"gridwidth\": 2, \"linecolor\": \"white\", \"showbackground\": true, \"ticks\": \"\", \"zerolinecolor\": \"white\"}, \"yaxis\": {\"backgroundcolor\": \"#E5ECF6\", \"gridcolor\": \"white\", \"gridwidth\": 2, \"linecolor\": \"white\", \"showbackground\": true, \"ticks\": \"\", \"zerolinecolor\": \"white\"}, \"zaxis\": {\"backgroundcolor\": \"#E5ECF6\", \"gridcolor\": \"white\", \"gridwidth\": 2, \"linecolor\": \"white\", \"showbackground\": true, \"ticks\": \"\", \"zerolinecolor\": \"white\"}}, \"shapedefaults\": {\"line\": {\"color\": \"#2a3f5f\"}}, \"ternary\": {\"aaxis\": {\"gridcolor\": \"white\", \"linecolor\": \"white\", \"ticks\": \"\"}, \"baxis\": {\"gridcolor\": \"white\", \"linecolor\": \"white\", \"ticks\": \"\"}, \"bgcolor\": \"#E5ECF6\", \"caxis\": {\"gridcolor\": \"white\", \"linecolor\": \"white\", \"ticks\": \"\"}}, \"title\": {\"x\": 0.05}, \"xaxis\": {\"automargin\": true, \"gridcolor\": \"white\", \"linecolor\": \"white\", \"ticks\": \"\", \"title\": {\"standoff\": 15}, \"zerolinecolor\": \"white\", \"zerolinewidth\": 2}, \"yaxis\": {\"automargin\": true, \"gridcolor\": \"white\", \"linecolor\": \"white\", \"ticks\": \"\", \"title\": {\"standoff\": 15}, \"zerolinecolor\": \"white\", \"zerolinewidth\": 2}}}, \"title\": {\"text\": \"Precio de venta de departamentos por m2 por Comunas - A\\u00f1o 2019\"}},                        {\"responsive\": true}                    ).then(function(){\n",
              "                            \n",
              "var gd = document.getElementById('7082c3b8-a267-49d6-a6d1-452111377b5c');\n",
              "var x = new MutationObserver(function (mutations, observer) {{\n",
              "        var display = window.getComputedStyle(gd).display;\n",
              "        if (!display || display === 'none') {{\n",
              "            console.log([gd, 'removed!']);\n",
              "            Plotly.purge(gd);\n",
              "            observer.disconnect();\n",
              "        }}\n",
              "}});\n",
              "\n",
              "// Listen for the removal of the full notebook cells\n",
              "var notebookContainer = gd.closest('#notebook-container');\n",
              "if (notebookContainer) {{\n",
              "    x.observe(notebookContainer, {childList: true});\n",
              "}}\n",
              "\n",
              "// Listen for the clearing of the current output cell\n",
              "var outputEl = gd.closest('.output');\n",
              "if (outputEl) {{\n",
              "    x.observe(outputEl, {childList: true});\n",
              "}}\n",
              "\n",
              "                        })                };                            </script>        </div>\n",
              "</body>\n",
              "</html>"
            ]
          },
          "metadata": {
            "tags": []
          }
        }
      ]
    },
    {
      "cell_type": "markdown",
      "metadata": {
        "id": "bLfJIa8ZBSA8"
      },
      "source": [
        "# **DASH**"
      ]
    },
    {
      "cell_type": "code",
      "metadata": {
        "id": "Slm37P_8BXwM"
      },
      "source": [
        "app = JupyterDash(__name__, meta_tags=[{\"name\": \"viewport\", \"content\": \"width=device-width\"}],external_stylesheets=[dbc.themes.BOOTSTRAP])\n",
        "\n",
        "app.title = 'Analisis del mercado inmobiliario en CABA - período 2013 a 2019'\n",
        "\n",
        "app.layout = html.Div(children = [\n",
        "                                 html.Div(children=[\n",
        "          html.H6('Analisis del Mercado Inmobiliario en CABA', style={'background-color':'LightGray', 'color':'Black', 'text-align': 'left', 'width':'60%', 'display': 'inline-block'}),\n",
        "          html.A(\n",
        "          id='github-link',\n",
        "          children=['Ver codigo en Github'],\n",
        "          href='https://github.com/Gordin-Flona/Analisis-del-Mercado-Inmobiliario---CABA', \n",
        "          style= {'display': 'inline-block', 'width':'40%', 'background-color':'LightGray', 'text-align': 'right'}\n",
        "                 ),\n",
        "                ],\n",
        "                className = 'app-header',\n",
        "      ),\n",
        "      html.P(' '),\n",
        "      html.Div(\n",
        "          [\n",
        "           html.H2('Analisis del Mercado Inmobiliario - alquiler y compra de departamentos en CABA'),\n",
        "           html.P('Realicé un EDA del Mercado Inmobiliario de CABA a partir de los datos públicos generados, guardados y publicados por el Gobierno de la Ciudad de Buenos Aires. Trabajé con los DataSets \"Precio promedio Alquiler\" y \"Precio de Venta de Departamentos\" elaborados por la Dirección General de Calidad Institucional y Gobierno Abierto.',\n",
        "                    style={'font-family': 'Arial'}),\n",
        "           html.A('Pagina web para acceder a los datos publicos de CABA',\n",
        "                  href='https://data.buenosaires.gob.ar/dataset/mercado-inmobiliario',\n",
        "                  target='blank',),\n",
        "           html.P(' '),\n",
        "           html.P ('Algunas consideraciones respecto de los datos utilizados:', style={'font-family': 'Arial', 'text-decoration': 'underline'}),\n",
        "           html.P('Precio promedio alquiler:precio promedio mensual (expresado en pesos) de departamentos en alquiler de 2 y 3 ambientes usados y a estrenar en la Ciudad. Años abarcados : 2013 a 2019. Fuente DGEyC-GCBA en base sobre la base de datos de Argenprop.', style={'font-family': 'Arial'}),\n",
        "           html.P('Precio de venta de departamentos: precio promedio del m2 (expresado en dólares) de departamentos en venta de 2 y 3 ambientes usados y a estrenar. Años abarcados : 2010 a 2019. Fuente DGEyC-GCBA en base sobre la base de datos de Argenprop.', style={'font-family': 'Arial'}),\n",
        "           html.P(' '),\n",
        "           html.P('En primera instancia y para tener una mayor comprension de los datos procedí con el análisis de tipos de datos, valores nulos y outliers, etc. Avancé con la identificacion de los valores nulos y verifiqué que gran parte de los datos referidos a los valores de las propiedades era inexistente. Por ello decidí eliminarlos. Esto produjo una reduccion significativa de la base de datos lo que hace que este análisis sea meramente descriptivo y no profundamente analítico.',\n",
        "                  style={'font-family': 'Arial'})\n",
        "           ]\n",
        "              ),\n",
        "      html.Div(children=[\n",
        "                         dcc.Graph(id='bar1', figure=fig1),], \n",
        "                         style={'width':'90%', 'margin':'100px' '100px' '100px' '100px' ,'border': '1px' 'solid black'}),\n",
        "      html.P(' '),\n",
        "      html.P('............................ '),\n",
        "      html.P(' '), \n",
        "      html.Div(children=[\n",
        "                         dcc.Graph(id='bar2', figure=fig2),],\n",
        "                         style={'width':'90%', 'margin':'100px' '100px' '95px' '95px' ,'border': '1px' 'solid black'}),\n",
        "      html.P(' '),\n",
        "      html.P('............................ '),\n",
        "      html.P(' '),\n",
        "      html.Div(children=[\n",
        "                         dcc.Graph(id='bar3', figure=fig3),],\n",
        "                         style={'width':'90%', 'margin':'100px' '100px' '95px' '95px' ,'border': '1px' 'solid black'}),\n",
        "      html.P(' '),\n",
        "      html.P('............................ '),\n",
        "      html.P(' '),\n",
        "      html.Div(children=[\n",
        "                         dcc.Graph(id='treemap', figure=fig4),],\n",
        "                         style={'width':'90%', 'margin':'100px' '100px' '95px' '95px' ,'border': '1px' 'solid black'}),\n",
        "      html.P(' '),\n",
        "      html.P('............................ '),\n",
        "      html.P(' '),\n",
        "      html.Div(children=[\n",
        "                         dcc.Graph(id='line', figure=fig6),],\n",
        "                         style={'width':'90%', 'margin':'100px' '100px' '95px' '95px' ,'border': '1px' 'solid black'}),\n",
        "      html.P(' '),\n",
        "      html.P('............................ '),\n",
        "      html.P(' '),\n",
        "      html.Div(children=[\n",
        "                         dcc.Graph(id='bar3', figure=fig7),],\n",
        "                         style={'width':'90%', 'margin':'100px' '100px' '95px' '95px' ,'border': '1px' 'solid black'}),\n",
        "      html.P(' '),\n",
        "      html.P('............................ '),\n",
        "      html.P(' '),\n",
        "      html.Div(children=[\n",
        "                         dcc.Graph(id='pie', figure=fig5),],\n",
        "                         style={'width':'90%', 'margin':'100px' '100px' '95px' '95px' ,'border': '1px' 'solid black'}),\n",
        "      html.P(' ')   \n",
        "      ])\n",
        "               \n",
        "if __name__=='__main__':  \n",
        "  app.run_server(mode='external')"
      ],
      "execution_count": null,
      "outputs": []
    }
  ]
}